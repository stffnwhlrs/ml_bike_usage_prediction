{
 "cells": [
  {
   "cell_type": "markdown",
   "metadata": {
    "id": "AEWhVLSgpQJ3"
   },
   "source": [
    "# Statistical Programming in Python - Group Assignment, Group G"
   ]
  },
  {
   "cell_type": "markdown",
   "metadata": {
    "id": "OtPcpKH9pQJ-"
   },
   "source": [
    "*In this Jupyer Notebook we are going to describe our approach to predict the total number of Washington D.C. bicycle users on an hourly basis.*\n",
    "\n",
    "*The flow of our notebook will be the following:* \n",
    "- Setup\n",
    "- Explanatory data analysis\n",
    "- Feature Engineering\n",
    "- Machine Learning"
   ]
  },
  {
   "cell_type": "markdown",
   "metadata": {
    "id": "aO4Rnfr4pQJ_"
   },
   "source": [
    "## Setup"
   ]
  },
  {
   "cell_type": "markdown",
   "metadata": {
    "id": "gwd18_8dicH6"
   },
   "source": [
    "*In this part we are going to import necessary packages and import the csv file.*"
   ]
  },
  {
   "cell_type": "code",
   "execution_count": 1,
   "metadata": {
    "id": "4WMN-H6hpQKA"
   },
   "outputs": [],
   "source": [
    "#Import the necessary libraries and objects\n",
    "import numpy as np\n",
    "import pandas as pd\n",
    "from pandas.tseries.holiday import USFederalHolidayCalendar as calendar\n",
    "import matplotlib.pyplot as plt\n",
    "import seaborn as sns\n",
    "%matplotlib inline\n",
    "import ipywidgets as ipw\n",
    "\n",
    "from sklearn.preprocessing import FunctionTransformer\n",
    "from sklearn.compose import ColumnTransformer\n",
    "from sklearn.experimental import enable_iterative_imputer\n",
    "from sklearn.impute import IterativeImputer\n",
    "from sklearn.impute import SimpleImputer\n",
    "from sklearn.preprocessing import OneHotEncoder\n",
    "from sklearn.pipeline import Pipeline\n",
    "from sklearn.impute import KNNImputer\n",
    "from sklearn.preprocessing import KBinsDiscretizer\n",
    "from sklearn.preprocessing import StandardScaler\n",
    "\n",
    "from datetime import date"
   ]
  },
  {
   "cell_type": "code",
   "execution_count": 2,
   "metadata": {
    "colab": {
     "base_uri": "https://localhost:8080/"
    },
    "id": "194aaU3ApQKA",
    "outputId": "df0ef2cf-531a-4b74-8a3f-6dd687173d26"
   },
   "outputs": [
    {
     "data": {
      "text/plain": [
       "True"
      ]
     },
     "execution_count": 2,
     "metadata": {},
     "output_type": "execute_result"
    }
   ],
   "source": [
    "# Load data \n",
    "df = pd.read_csv(\"hour.csv\", index_col=\"instant\", parse_dates=[\"dteday\"])\n",
    "\n",
    "# Renaming the columns for better readability\n",
    "df = df.rename(columns={\"hr\": \"hour\", \"cnt\":\"count\", \"dteday\":\"date\"})\n",
    "\n",
    "# Check if we got an unique index\n",
    "df.index.is_unique"
   ]
  },
  {
   "cell_type": "markdown",
   "metadata": {
    "id": "O71lAyIBpQKB"
   },
   "source": [
    "## Explanatory Data Analysis\n",
    "*Using Exploratory Data Analysis to investigate the data set, to discover patterns, to spot anomalies and to check assumptions.\n",
    "In this sections, we are going to analyze the quality of the data for each variable and also check for corellations with our target variable count.*\n",
    "*We entered descriptions / assumptions when we thought something looked strange / was worth a deep-dive.*\n"
   ]
  },
  {
   "cell_type": "markdown",
   "metadata": {
    "id": "H8_uRJZapQKB"
   },
   "source": [
    "### Feature creation for EDA"
   ]
  },
  {
   "cell_type": "markdown",
   "metadata": {
    "id": "ADB8dhVHicH9"
   },
   "source": [
    "*We decided to work with two different dataframes. In the EDA section we are going to use the `df_eda` dataframe. We created the features for this dataframe in a normal pandas way. Within the Feature Engineering section we are going to create these features again but using sklearn functionality.*"
   ]
  },
  {
   "cell_type": "markdown",
   "metadata": {
    "id": "EAXasWkppQKC"
   },
   "source": [
    "#### Extraction of date components\n",
    "\n",
    "*From the attribute date, which is a datetime object we are extracting year, month, day, weekday by using `pandas.series.dt`*"
   ]
  },
  {
   "cell_type": "code",
   "execution_count": 3,
   "metadata": {
    "id": "-Gb3NfAZpQKC"
   },
   "outputs": [],
   "source": [
    "df_eda = df\n",
    "\n",
    "# extract year, month, day, weekday\n",
    "df_eda[\"year\"] = df_eda[\"date\"].dt.year\n",
    "df_eda[\"month\"] = df_eda[\"date\"].dt.month\n",
    "df_eda[\"day\"] = df_eda[\"date\"].dt.day\n",
    "df_eda[\"weekday\"]= df_eda[\"date\"].dt.weekday"
   ]
  },
  {
   "cell_type": "markdown",
   "metadata": {
    "id": "0Ne0uvIWpQKC"
   },
   "source": [
    "#### Create season column\n",
    "\n",
    "*To check the data set for seasonality, the date needs to be assigned to the 4 seasons.* \n",
    "- 1 = spring (March 20 - June 21)\n",
    "- 2 = summer (June 22 - September 21)\n",
    "- 3 = fall (September 22 - December 20)\n",
    "- 4 = winter (December 21 - March 19)\n",
    "\n",
    "\n",
    "https://www.timeanddate.com/calendar/aboutseasons.html\n"
   ]
  },
  {
   "cell_type": "code",
   "execution_count": 4,
   "metadata": {
    "id": "6Q04Uwm7pQKC"
   },
   "outputs": [],
   "source": [
    "def get_season(date_to_convert):  # the function expects a datetime.date object as input\n",
    "    \n",
    "    # fix the year of the input\n",
    "    date_year = date_to_convert.year\n",
    "    \n",
    "    # create the list of tuples on which to loop\n",
    "    seasons = [\n",
    "        (\"winter\", date(date_year, 12, 21), date(date_year, 12, 31)),\n",
    "        (\"spring\", date(date_year, 3, 20), date(date_year, 6, 21)),\n",
    "        (\"summer\", date(date_year, 6, 22), date(date_year, 9, 21)),\n",
    "        (\"fall\", date(date_year, 9, 22), date(date_year, 12, 20)),\n",
    "        (\"winter\", date(date_year, 1, 1), date(date_year, 3, 19))\n",
    "    ]\n",
    "    \n",
    "    # loop for each season trying to find the season to which\n",
    "    # date_to_convert belongs to\n",
    "    for elem in seasons:  # season = tuple(name, start, end) = (elem[0], elem[1], elem[2])\n",
    "        if date_to_convert>=elem[1] and date_to_convert<=elem[2]:  \n",
    "            return elem[0]\n",
    "        \n",
    "df_eda[\"season\"] = df_eda[\"date\"].map(get_season)\n"
   ]
  },
  {
   "cell_type": "markdown",
   "metadata": {
    "id": "XN_64LYVpQKC"
   },
   "source": [
    "#### Create a holiday column\n",
    "\n",
    "*By creating a Holiday Column it is possible to check for an increase in bike rental during the holiday season.*"
   ]
  },
  {
   "cell_type": "code",
   "execution_count": 5,
   "metadata": {
    "id": "u0QYzdj4pQKD"
   },
   "outputs": [],
   "source": [
    "cal = calendar() #Using calender object to extract holiday seasons\n",
    "holidays = cal.holidays(start=df_eda[\"date\"].min(), end=df_eda[\"date\"].max())\n",
    "df_eda[\"holiday\"] = np.where(df_eda[\"date\"].isin(holidays),True,False) "
   ]
  },
  {
   "cell_type": "markdown",
   "metadata": {
    "id": "t_dNcx_NpQKD"
   },
   "source": [
    "#### Create a workingday column\n",
    "\n",
    "*By creating a workingday column it is possible to check for an increase in bike rental during the weekend.*\n",
    "\n",
    "Mon-Fri (0-4)\n",
    "\n",
    "Sat-Sun (5-6)"
   ]
  },
  {
   "cell_type": "code",
   "execution_count": 6,
   "metadata": {
    "id": "8w20hK2_pQKD"
   },
   "outputs": [],
   "source": [
    "df_eda[\"workingday\"] = np.where(df_eda[\"weekday\"] < 5,True,False)"
   ]
  },
  {
   "cell_type": "markdown",
   "metadata": {
    "id": "nD7GzVyZpQKD"
   },
   "source": [
    "### General Overview\n",
    "\n",
    "*Have an overview of our data set, includes data type, number of rows, basic statistics of each column, NAs*"
   ]
  },
  {
   "cell_type": "code",
   "execution_count": 7,
   "metadata": {
    "colab": {
     "base_uri": "https://localhost:8080/"
    },
    "id": "I9pDBFd5prrb",
    "outputId": "7ae34367-6dac-49cf-ecce-3cdd0e6e8b60"
   },
   "outputs": [
    {
     "data": {
      "text/plain": [
       "17379"
      ]
     },
     "execution_count": 7,
     "metadata": {},
     "output_type": "execute_result"
    }
   ],
   "source": [
    "df_eda.shape[0]"
   ]
  },
  {
   "cell_type": "code",
   "execution_count": 8,
   "metadata": {
    "colab": {
     "base_uri": "https://localhost:8080/",
     "height": 297
    },
    "id": "PVA1l7I4w20S",
    "outputId": "e0483b97-2fa6-40e2-afea-f7d9776f8de1"
   },
   "outputs": [
    {
     "data": {
      "text/html": [
       "<div>\n",
       "<style scoped>\n",
       "    .dataframe tbody tr th:only-of-type {\n",
       "        vertical-align: middle;\n",
       "    }\n",
       "\n",
       "    .dataframe tbody tr th {\n",
       "        vertical-align: top;\n",
       "    }\n",
       "\n",
       "    .dataframe thead th {\n",
       "        text-align: right;\n",
       "    }\n",
       "</style>\n",
       "<table border=\"1\" class=\"dataframe\">\n",
       "  <thead>\n",
       "    <tr style=\"text-align: right;\">\n",
       "      <th></th>\n",
       "      <th>hour</th>\n",
       "      <th>temp</th>\n",
       "      <th>atemp</th>\n",
       "      <th>hum</th>\n",
       "      <th>windspeed</th>\n",
       "      <th>casual</th>\n",
       "      <th>registered</th>\n",
       "      <th>count</th>\n",
       "      <th>year</th>\n",
       "      <th>month</th>\n",
       "      <th>day</th>\n",
       "      <th>weekday</th>\n",
       "    </tr>\n",
       "  </thead>\n",
       "  <tbody>\n",
       "    <tr>\n",
       "      <th>count</th>\n",
       "      <td>17379.000000</td>\n",
       "      <td>17280.000000</td>\n",
       "      <td>17279.000000</td>\n",
       "      <td>17279.000000</td>\n",
       "      <td>17279.000000</td>\n",
       "      <td>17379.000000</td>\n",
       "      <td>17379.000000</td>\n",
       "      <td>17379.000000</td>\n",
       "      <td>17379.000000</td>\n",
       "      <td>17379.000000</td>\n",
       "      <td>17379.000000</td>\n",
       "      <td>17379.000000</td>\n",
       "    </tr>\n",
       "    <tr>\n",
       "      <th>mean</th>\n",
       "      <td>11.546752</td>\n",
       "      <td>0.497071</td>\n",
       "      <td>0.475530</td>\n",
       "      <td>0.627235</td>\n",
       "      <td>0.190114</td>\n",
       "      <td>35.676218</td>\n",
       "      <td>153.786869</td>\n",
       "      <td>189.463088</td>\n",
       "      <td>2011.502561</td>\n",
       "      <td>6.537775</td>\n",
       "      <td>15.683411</td>\n",
       "      <td>3.011451</td>\n",
       "    </tr>\n",
       "    <tr>\n",
       "      <th>std</th>\n",
       "      <td>6.914405</td>\n",
       "      <td>0.192474</td>\n",
       "      <td>0.171782</td>\n",
       "      <td>0.193047</td>\n",
       "      <td>0.122378</td>\n",
       "      <td>49.305030</td>\n",
       "      <td>151.357286</td>\n",
       "      <td>181.387599</td>\n",
       "      <td>0.500008</td>\n",
       "      <td>3.438776</td>\n",
       "      <td>8.789373</td>\n",
       "      <td>2.001966</td>\n",
       "    </tr>\n",
       "    <tr>\n",
       "      <th>min</th>\n",
       "      <td>0.000000</td>\n",
       "      <td>0.020000</td>\n",
       "      <td>0.000000</td>\n",
       "      <td>0.000000</td>\n",
       "      <td>0.000000</td>\n",
       "      <td>0.000000</td>\n",
       "      <td>0.000000</td>\n",
       "      <td>1.000000</td>\n",
       "      <td>2011.000000</td>\n",
       "      <td>1.000000</td>\n",
       "      <td>1.000000</td>\n",
       "      <td>0.000000</td>\n",
       "    </tr>\n",
       "    <tr>\n",
       "      <th>25%</th>\n",
       "      <td>6.000000</td>\n",
       "      <td>0.340000</td>\n",
       "      <td>0.333300</td>\n",
       "      <td>0.480000</td>\n",
       "      <td>0.104500</td>\n",
       "      <td>4.000000</td>\n",
       "      <td>34.000000</td>\n",
       "      <td>40.000000</td>\n",
       "      <td>2011.000000</td>\n",
       "      <td>4.000000</td>\n",
       "      <td>8.000000</td>\n",
       "      <td>1.000000</td>\n",
       "    </tr>\n",
       "    <tr>\n",
       "      <th>50%</th>\n",
       "      <td>12.000000</td>\n",
       "      <td>0.500000</td>\n",
       "      <td>0.484800</td>\n",
       "      <td>0.630000</td>\n",
       "      <td>0.194000</td>\n",
       "      <td>17.000000</td>\n",
       "      <td>115.000000</td>\n",
       "      <td>142.000000</td>\n",
       "      <td>2012.000000</td>\n",
       "      <td>7.000000</td>\n",
       "      <td>16.000000</td>\n",
       "      <td>3.000000</td>\n",
       "    </tr>\n",
       "    <tr>\n",
       "      <th>75%</th>\n",
       "      <td>18.000000</td>\n",
       "      <td>0.660000</td>\n",
       "      <td>0.621200</td>\n",
       "      <td>0.780000</td>\n",
       "      <td>0.253700</td>\n",
       "      <td>48.000000</td>\n",
       "      <td>220.000000</td>\n",
       "      <td>281.000000</td>\n",
       "      <td>2012.000000</td>\n",
       "      <td>10.000000</td>\n",
       "      <td>23.000000</td>\n",
       "      <td>5.000000</td>\n",
       "    </tr>\n",
       "    <tr>\n",
       "      <th>max</th>\n",
       "      <td>23.000000</td>\n",
       "      <td>1.000000</td>\n",
       "      <td>1.000000</td>\n",
       "      <td>1.000000</td>\n",
       "      <td>0.850700</td>\n",
       "      <td>367.000000</td>\n",
       "      <td>886.000000</td>\n",
       "      <td>977.000000</td>\n",
       "      <td>2012.000000</td>\n",
       "      <td>12.000000</td>\n",
       "      <td>31.000000</td>\n",
       "      <td>6.000000</td>\n",
       "    </tr>\n",
       "  </tbody>\n",
       "</table>\n",
       "</div>"
      ],
      "text/plain": [
       "               hour          temp         atemp           hum     windspeed  \\\n",
       "count  17379.000000  17280.000000  17279.000000  17279.000000  17279.000000   \n",
       "mean      11.546752      0.497071      0.475530      0.627235      0.190114   \n",
       "std        6.914405      0.192474      0.171782      0.193047      0.122378   \n",
       "min        0.000000      0.020000      0.000000      0.000000      0.000000   \n",
       "25%        6.000000      0.340000      0.333300      0.480000      0.104500   \n",
       "50%       12.000000      0.500000      0.484800      0.630000      0.194000   \n",
       "75%       18.000000      0.660000      0.621200      0.780000      0.253700   \n",
       "max       23.000000      1.000000      1.000000      1.000000      0.850700   \n",
       "\n",
       "             casual    registered         count          year         month  \\\n",
       "count  17379.000000  17379.000000  17379.000000  17379.000000  17379.000000   \n",
       "mean      35.676218    153.786869    189.463088   2011.502561      6.537775   \n",
       "std       49.305030    151.357286    181.387599      0.500008      3.438776   \n",
       "min        0.000000      0.000000      1.000000   2011.000000      1.000000   \n",
       "25%        4.000000     34.000000     40.000000   2011.000000      4.000000   \n",
       "50%       17.000000    115.000000    142.000000   2012.000000      7.000000   \n",
       "75%       48.000000    220.000000    281.000000   2012.000000     10.000000   \n",
       "max      367.000000    886.000000    977.000000   2012.000000     12.000000   \n",
       "\n",
       "                day       weekday  \n",
       "count  17379.000000  17379.000000  \n",
       "mean      15.683411      3.011451  \n",
       "std        8.789373      2.001966  \n",
       "min        1.000000      0.000000  \n",
       "25%        8.000000      1.000000  \n",
       "50%       16.000000      3.000000  \n",
       "75%       23.000000      5.000000  \n",
       "max       31.000000      6.000000  "
      ]
     },
     "execution_count": 8,
     "metadata": {},
     "output_type": "execute_result"
    }
   ],
   "source": [
    "# Check data frame on anomalies\n",
    "df_eda.describe()"
   ]
  },
  {
   "cell_type": "code",
   "execution_count": 9,
   "metadata": {
    "colab": {
     "base_uri": "https://localhost:8080/"
    },
    "id": "iZ23tLtnpuyY",
    "outputId": "08d05b15-5b1d-4eb9-803d-c27753dd5404"
   },
   "outputs": [
    {
     "data": {
      "text/plain": [
       "date          datetime64[ns]\n",
       "hour                   int64\n",
       "weathersit            object\n",
       "temp                 float64\n",
       "atemp                float64\n",
       "hum                  float64\n",
       "windspeed            float64\n",
       "casual                 int64\n",
       "registered             int64\n",
       "count                  int64\n",
       "year                   int64\n",
       "month                  int64\n",
       "day                    int64\n",
       "weekday                int64\n",
       "season                object\n",
       "holiday                 bool\n",
       "workingday              bool\n",
       "dtype: object"
      ]
     },
     "execution_count": 9,
     "metadata": {},
     "output_type": "execute_result"
    }
   ],
   "source": [
    "# Check data types\n",
    "df_eda.dtypes"
   ]
  },
  {
   "cell_type": "code",
   "execution_count": 10,
   "metadata": {
    "colab": {
     "base_uri": "https://localhost:8080/"
    },
    "id": "dt8ZNVO_pv6G",
    "outputId": "fee58e3a-edc8-4a51-a69d-27427c5b5c06"
   },
   "outputs": [
    {
     "data": {
      "text/plain": [
       "date            0\n",
       "hour            0\n",
       "weathersit    100\n",
       "temp           99\n",
       "atemp         100\n",
       "hum           100\n",
       "windspeed     100\n",
       "casual          0\n",
       "registered      0\n",
       "count           0\n",
       "year            0\n",
       "month           0\n",
       "day             0\n",
       "weekday         0\n",
       "season          0\n",
       "holiday         0\n",
       "workingday      0\n",
       "dtype: int64"
      ]
     },
     "execution_count": 10,
     "metadata": {},
     "output_type": "execute_result"
    }
   ],
   "source": [
    "# Check nulls\n",
    "df_eda.isna().sum()"
   ]
  },
  {
   "cell_type": "markdown",
   "metadata": {
    "id": "T9sYvjHFzzFB"
   },
   "source": [
    "*Conclusion: After seeing the basic structure, we conclude that the overall quality seems to be good. There aren't any weird numbers or wrong types. Also there aren't many Null values in this dataframe.*\n",
    "\n",
    "\n",
    "\n",
    "\n"
   ]
  },
  {
   "cell_type": "markdown",
   "metadata": {
    "id": "0t5z7oyxp0fB"
   },
   "source": [
    "####  Hour column"
   ]
  },
  {
   "cell_type": "markdown",
   "metadata": {
    "id": "0dnGNZzbxZIx"
   },
   "source": [
    "##### Correctness & Consistency"
   ]
  },
  {
   "cell_type": "code",
   "execution_count": 11,
   "metadata": {
    "colab": {
     "base_uri": "https://localhost:8080/"
    },
    "id": "oaOHrD0XqLVP",
    "outputId": "4db358c3-f63f-40ba-f966-cc8ba2889b4f"
   },
   "outputs": [
    {
     "data": {
      "text/plain": [
       "count    17379.000000\n",
       "mean        11.546752\n",
       "std          6.914405\n",
       "min          0.000000\n",
       "25%          6.000000\n",
       "50%         12.000000\n",
       "75%         18.000000\n",
       "max         23.000000\n",
       "Name: hour, dtype: float64"
      ]
     },
     "execution_count": 11,
     "metadata": {},
     "output_type": "execute_result"
    }
   ],
   "source": [
    "# Check basic stats\n",
    "df_eda[\"hour\"].describe()"
   ]
  },
  {
   "cell_type": "code",
   "execution_count": 12,
   "metadata": {
    "colab": {
     "base_uri": "https://localhost:8080/",
     "height": 350
    },
    "id": "ffEAvHfCrfAT",
    "outputId": "bcc9aaf5-8ee8-4537-ae56-67ff61cad06e"
   },
   "outputs": [
    {
     "ename": "AttributeError",
     "evalue": "module 'seaborn' has no attribute 'histplot'",
     "output_type": "error",
     "traceback": [
      "\u001b[1;31m---------------------------------------------------------------------------\u001b[0m",
      "\u001b[1;31mAttributeError\u001b[0m                            Traceback (most recent call last)",
      "\u001b[1;32m<ipython-input-12-5636ad5dd2ff>\u001b[0m in \u001b[0;36m<module>\u001b[1;34m\u001b[0m\n\u001b[0;32m      1\u001b[0m \u001b[1;31m#Check missing values through distribution of the data set\u001b[0m\u001b[1;33m\u001b[0m\u001b[1;33m\u001b[0m\u001b[1;33m\u001b[0m\u001b[0m\n\u001b[0;32m      2\u001b[0m \u001b[0mplt\u001b[0m\u001b[1;33m.\u001b[0m\u001b[0mfigure\u001b[0m\u001b[1;33m(\u001b[0m\u001b[0mfigsize\u001b[0m\u001b[1;33m=\u001b[0m\u001b[1;33m(\u001b[0m\u001b[1;36m10\u001b[0m\u001b[1;33m,\u001b[0m\u001b[1;36m5\u001b[0m\u001b[1;33m)\u001b[0m\u001b[1;33m)\u001b[0m\u001b[1;33m\u001b[0m\u001b[1;33m\u001b[0m\u001b[0m\n\u001b[1;32m----> 3\u001b[1;33m \u001b[0msns\u001b[0m\u001b[1;33m.\u001b[0m\u001b[0mhistplot\u001b[0m\u001b[1;33m(\u001b[0m\u001b[0mdf_eda\u001b[0m\u001b[1;33m[\u001b[0m\u001b[1;34m\"hour\"\u001b[0m\u001b[1;33m]\u001b[0m\u001b[1;33m,\u001b[0m \u001b[0mkde\u001b[0m\u001b[1;33m=\u001b[0m\u001b[1;32mTrue\u001b[0m\u001b[1;33m)\u001b[0m\u001b[1;33m\u001b[0m\u001b[1;33m\u001b[0m\u001b[0m\n\u001b[0m\u001b[0;32m      4\u001b[0m \u001b[0mplt\u001b[0m\u001b[1;33m.\u001b[0m\u001b[0mtitle\u001b[0m\u001b[1;33m(\u001b[0m\u001b[1;34m\"hour per day distribution\"\u001b[0m\u001b[1;33m)\u001b[0m\u001b[1;33m;\u001b[0m\u001b[1;33m\u001b[0m\u001b[1;33m\u001b[0m\u001b[0m\n",
      "\u001b[1;31mAttributeError\u001b[0m: module 'seaborn' has no attribute 'histplot'"
     ]
    },
    {
     "data": {
      "text/plain": [
       "<Figure size 720x360 with 0 Axes>"
      ]
     },
     "metadata": {},
     "output_type": "display_data"
    }
   ],
   "source": [
    "#Check missing values through distribution of the data set\n",
    "plt.figure(figsize=(10,5))\n",
    "sns.histplot(df_eda[\"hour\"], kde=True)\n",
    "plt.title(\"hour per day distribution\");"
   ]
  },
  {
   "cell_type": "markdown",
   "metadata": {
    "id": "Yhv5tJdficIB"
   },
   "source": [
    "*We can see that the hours are not evenly distributed which seems wrong. There wo we'll go into a furter analysis.*"
   ]
  },
  {
   "cell_type": "code",
   "execution_count": 14,
   "metadata": {
    "colab": {
     "base_uri": "https://localhost:8080/"
    },
    "id": "qttcwszrriMn",
    "outputId": "f71377a9-bf21-47eb-f55d-1e090aa6e033"
   },
   "outputs": [
    {
     "data": {
      "text/plain": [
       "3     697\n",
       "4     697\n",
       "2     715\n",
       "5     717\n",
       "1     724\n",
       "6     725\n",
       "0     726\n",
       "8     727\n",
       "9     727\n",
       "10    727\n",
       "11    727\n",
       "7     727\n",
       "21    728\n",
       "23    728\n",
       "19    728\n",
       "12    728\n",
       "18    728\n",
       "22    728\n",
       "20    728\n",
       "13    729\n",
       "14    729\n",
       "15    729\n",
       "16    730\n",
       "17    730\n",
       "Name: hour, dtype: int64"
      ]
     },
     "execution_count": 14,
     "metadata": {},
     "output_type": "execute_result"
    }
   ],
   "source": [
    "# Check which hours are missing\n",
    "df_eda[\"hour\"].value_counts().sort_values(ascending=True)"
   ]
  },
  {
   "cell_type": "markdown",
   "metadata": {
    "id": "KcHP8DEGicIB"
   },
   "source": [
    "*Having a look at the numbers, there aren't so many hours missing. When hours are missing on a day, it's usually in the early morning hours.*"
   ]
  },
  {
   "cell_type": "code",
   "execution_count": 15,
   "metadata": {
    "colab": {
     "base_uri": "https://localhost:8080/",
     "height": 419
    },
    "id": "n72dAcO9r3ds",
    "outputId": "8b107711-9273-40f6-b834-827c66150f65"
   },
   "outputs": [
    {
     "data": {
      "text/html": [
       "<div>\n",
       "<style scoped>\n",
       "    .dataframe tbody tr th:only-of-type {\n",
       "        vertical-align: middle;\n",
       "    }\n",
       "\n",
       "    .dataframe tbody tr th {\n",
       "        vertical-align: top;\n",
       "    }\n",
       "\n",
       "    .dataframe thead th {\n",
       "        text-align: right;\n",
       "    }\n",
       "</style>\n",
       "<table border=\"1\" class=\"dataframe\">\n",
       "  <thead>\n",
       "    <tr style=\"text-align: right;\">\n",
       "      <th></th>\n",
       "      <th>date</th>\n",
       "      <th>hour</th>\n",
       "    </tr>\n",
       "  </thead>\n",
       "  <tbody>\n",
       "    <tr>\n",
       "      <th>667</th>\n",
       "      <td>2012-10-29</td>\n",
       "      <td>1</td>\n",
       "    </tr>\n",
       "    <tr>\n",
       "      <th>26</th>\n",
       "      <td>2011-01-27</td>\n",
       "      <td>8</td>\n",
       "    </tr>\n",
       "    <tr>\n",
       "      <th>668</th>\n",
       "      <td>2012-10-30</td>\n",
       "      <td>11</td>\n",
       "    </tr>\n",
       "    <tr>\n",
       "      <th>17</th>\n",
       "      <td>2011-01-18</td>\n",
       "      <td>12</td>\n",
       "    </tr>\n",
       "    <tr>\n",
       "      <th>25</th>\n",
       "      <td>2011-01-26</td>\n",
       "      <td>16</td>\n",
       "    </tr>\n",
       "    <tr>\n",
       "      <th>...</th>\n",
       "      <td>...</td>\n",
       "      <td>...</td>\n",
       "    </tr>\n",
       "    <tr>\n",
       "      <th>279</th>\n",
       "      <td>2011-10-07</td>\n",
       "      <td>24</td>\n",
       "    </tr>\n",
       "    <tr>\n",
       "      <th>280</th>\n",
       "      <td>2011-10-08</td>\n",
       "      <td>24</td>\n",
       "    </tr>\n",
       "    <tr>\n",
       "      <th>281</th>\n",
       "      <td>2011-10-09</td>\n",
       "      <td>24</td>\n",
       "    </tr>\n",
       "    <tr>\n",
       "      <th>283</th>\n",
       "      <td>2011-10-11</td>\n",
       "      <td>24</td>\n",
       "    </tr>\n",
       "    <tr>\n",
       "      <th>730</th>\n",
       "      <td>2012-12-31</td>\n",
       "      <td>24</td>\n",
       "    </tr>\n",
       "  </tbody>\n",
       "</table>\n",
       "<p>731 rows × 2 columns</p>\n",
       "</div>"
      ],
      "text/plain": [
       "          date  hour\n",
       "667 2012-10-29     1\n",
       "26  2011-01-27     8\n",
       "668 2012-10-30    11\n",
       "17  2011-01-18    12\n",
       "25  2011-01-26    16\n",
       "..         ...   ...\n",
       "279 2011-10-07    24\n",
       "280 2011-10-08    24\n",
       "281 2011-10-09    24\n",
       "283 2011-10-11    24\n",
       "730 2012-12-31    24\n",
       "\n",
       "[731 rows x 2 columns]"
      ]
     },
     "execution_count": 15,
     "metadata": {},
     "output_type": "execute_result"
    }
   ],
   "source": [
    "# Check if each day has 24 hours\n",
    "df_ob_date = df_eda[[\"date\",\"hour\"]].groupby([\"date\"], as_index=False).count().sort_values(by=[\"hour\"])\n",
    "df_ob_date"
   ]
  },
  {
   "cell_type": "markdown",
   "metadata": {
    "id": "C2x6FKrKqzEA"
   },
   "source": [
    "##### NAs"
   ]
  },
  {
   "cell_type": "code",
   "execution_count": 16,
   "metadata": {
    "colab": {
     "base_uri": "https://localhost:8080/"
    },
    "id": "2lZ0CREwra8M",
    "outputId": "fa452c38-c426-4419-d665-2eddee9fbce4"
   },
   "outputs": [
    {
     "data": {
      "text/plain": [
       "0"
      ]
     },
     "execution_count": 16,
     "metadata": {},
     "output_type": "execute_result"
    }
   ],
   "source": [
    "df_eda[\"hour\"].isna().sum()"
   ]
  },
  {
   "cell_type": "markdown",
   "metadata": {
    "id": "L1UwS8Pyqptb"
   },
   "source": [
    "##### Outliers"
   ]
  },
  {
   "cell_type": "code",
   "execution_count": 17,
   "metadata": {
    "colab": {
     "base_uri": "https://localhost:8080/",
     "height": 594
    },
    "id": "h2q_WwJUqrbH",
    "outputId": "a4e4d4ca-c2fc-45d1-86f5-ec146b1f134c",
    "scrolled": true
   },
   "outputs": [
    {
     "data": {
      "image/png": "[encoded data removed]",
      "text/plain": [
       "<Figure size 360x720 with 1 Axes>"
      ]
     },
     "metadata": {
      "needs_background": "light"
     },
     "output_type": "display_data"
    }
   ],
   "source": [
    "# Detect outliers\n",
    "plt.figure(figsize=(5,10))\n",
    "sns.boxplot(y=\"hour\", data=df_eda, orient=\"v\")\n",
    "plt.title(\"Hours outliers\");"
   ]
  },
  {
   "cell_type": "markdown",
   "metadata": {
    "id": "n7uvxonx0GIl"
   },
   "source": [
    "####  Weathersit column"
   ]
  },
  {
   "cell_type": "markdown",
   "metadata": {
    "id": "dseuA13X1Lyr"
   },
   "source": [
    "##### Correctness & Consistency"
   ]
  },
  {
   "cell_type": "code",
   "execution_count": 18,
   "metadata": {
    "colab": {
     "base_uri": "https://localhost:8080/"
    },
    "id": "hHPwaCt21MXE",
    "outputId": "10b64113-0435-4cb4-e30c-21423bcdde10"
   },
   "outputs": [
    {
     "data": {
      "text/plain": [
       "count                                               17279\n",
       "unique                                                  4\n",
       "top       Clear, Few clouds, Partly cloudy, Partly cloudy\n",
       "freq                                                11345\n",
       "Name: weathersit, dtype: object"
      ]
     },
     "execution_count": 18,
     "metadata": {},
     "output_type": "execute_result"
    }
   ],
   "source": [
    "# Check basic stats\n",
    "df_eda[\"weathersit\"].describe()"
   ]
  },
  {
   "cell_type": "markdown",
   "metadata": {
    "id": "KR6bJhm11hZR"
   },
   "source": [
    "##### NAs"
   ]
  },
  {
   "cell_type": "code",
   "execution_count": 19,
   "metadata": {
    "colab": {
     "base_uri": "https://localhost:8080/"
    },
    "id": "KU0kZ60d6Je9",
    "outputId": "44e42f87-fc02-49f6-ecf4-75a477ef0c2d"
   },
   "outputs": [
    {
     "data": {
      "text/plain": [
       "100"
      ]
     },
     "execution_count": 19,
     "metadata": {},
     "output_type": "execute_result"
    }
   ],
   "source": [
    "df_eda[\"weathersit\"].isna().sum()"
   ]
  },
  {
   "cell_type": "markdown",
   "metadata": {
    "id": "FXVtuMC91oXR"
   },
   "source": [
    "##### Outliers"
   ]
  },
  {
   "cell_type": "code",
   "execution_count": 20,
   "metadata": {
    "colab": {
     "base_uri": "https://localhost:8080/",
     "height": 606
    },
    "id": "1j9Quqyj6P_V",
    "outputId": "71ad73e3-7753-42a1-a6f0-659754634304"
   },
   "outputs": [
    {
     "data": {
      "image/png": "[encoded data removed]",
      "text/plain": [
       "<Figure size 720x720 with 1 Axes>"
      ]
     },
     "metadata": {
      "needs_background": "light"
     },
     "output_type": "display_data"
    }
   ],
   "source": [
    "# Detect outliers\n",
    "plt.figure(figsize=(10,10))\n",
    "sns.boxplot(data=df_eda, y=\"weathersit\", x=\"temp\");"
   ]
  },
  {
   "cell_type": "markdown",
   "metadata": {
    "id": "tpOfv8Zf18j2"
   },
   "source": [
    "####  Temp column"
   ]
  },
  {
   "cell_type": "markdown",
   "metadata": {
    "id": "QbCCbgWP18j8"
   },
   "source": [
    "##### Correctness & Consistency"
   ]
  },
  {
   "cell_type": "code",
   "execution_count": 21,
   "metadata": {
    "colab": {
     "base_uri": "https://localhost:8080/"
    },
    "id": "xFCg9u3t18j8",
    "outputId": "94d9f202-6ba3-4972-e8bd-70721c593bca"
   },
   "outputs": [
    {
     "data": {
      "text/plain": [
       "count    17280.000000\n",
       "mean         0.497071\n",
       "std          0.192474\n",
       "min          0.020000\n",
       "25%          0.340000\n",
       "50%          0.500000\n",
       "75%          0.660000\n",
       "max          1.000000\n",
       "Name: temp, dtype: float64"
      ]
     },
     "execution_count": 21,
     "metadata": {},
     "output_type": "execute_result"
    }
   ],
   "source": [
    "# Check basic stats\n",
    "df_eda[\"temp\"].describe()"
   ]
  },
  {
   "cell_type": "code",
   "execution_count": 22,
   "metadata": {
    "colab": {
     "base_uri": "https://localhost:8080/",
     "height": 350
    },
    "id": "AiDYxIbT18j9",
    "outputId": "815b6c55-094e-41ff-d55d-526d0592418c"
   },
   "outputs": [
    {
     "ename": "AttributeError",
     "evalue": "module 'seaborn' has no attribute 'histplot'",
     "output_type": "error",
     "traceback": [
      "\u001b[1;31m---------------------------------------------------------------------------\u001b[0m",
      "\u001b[1;31mAttributeError\u001b[0m                            Traceback (most recent call last)",
      "\u001b[1;32m<ipython-input-22-d0050df935ce>\u001b[0m in \u001b[0;36m<module>\u001b[1;34m\u001b[0m\n\u001b[0;32m      1\u001b[0m \u001b[1;31m# Check distribution\u001b[0m\u001b[1;33m\u001b[0m\u001b[1;33m\u001b[0m\u001b[1;33m\u001b[0m\u001b[0m\n\u001b[0;32m      2\u001b[0m \u001b[0mplt\u001b[0m\u001b[1;33m.\u001b[0m\u001b[0mfigure\u001b[0m\u001b[1;33m(\u001b[0m\u001b[0mfigsize\u001b[0m\u001b[1;33m=\u001b[0m\u001b[1;33m(\u001b[0m\u001b[1;36m10\u001b[0m\u001b[1;33m,\u001b[0m\u001b[1;36m5\u001b[0m\u001b[1;33m)\u001b[0m\u001b[1;33m)\u001b[0m\u001b[1;33m\u001b[0m\u001b[1;33m\u001b[0m\u001b[0m\n\u001b[1;32m----> 3\u001b[1;33m \u001b[0msns\u001b[0m\u001b[1;33m.\u001b[0m\u001b[0mhistplot\u001b[0m\u001b[1;33m(\u001b[0m\u001b[0mdf_eda\u001b[0m\u001b[1;33m[\u001b[0m\u001b[1;34m\"temp\"\u001b[0m\u001b[1;33m]\u001b[0m\u001b[1;33m,\u001b[0m \u001b[0mkde\u001b[0m\u001b[1;33m=\u001b[0m\u001b[1;32mTrue\u001b[0m\u001b[1;33m)\u001b[0m\u001b[1;33m\u001b[0m\u001b[1;33m\u001b[0m\u001b[0m\n\u001b[0m\u001b[0;32m      4\u001b[0m \u001b[0mplt\u001b[0m\u001b[1;33m.\u001b[0m\u001b[0mtitle\u001b[0m\u001b[1;33m(\u001b[0m\u001b[1;34m\"temp distribution\"\u001b[0m\u001b[1;33m)\u001b[0m\u001b[1;33m;\u001b[0m\u001b[1;33m\u001b[0m\u001b[1;33m\u001b[0m\u001b[0m\n",
      "\u001b[1;31mAttributeError\u001b[0m: module 'seaborn' has no attribute 'histplot'"
     ]
    },
    {
     "data": {
      "text/plain": [
       "<Figure size 720x360 with 0 Axes>"
      ]
     },
     "metadata": {},
     "output_type": "display_data"
    }
   ],
   "source": [
    "# Check distribution\n",
    "plt.figure(figsize=(10,5))\n",
    "sns.histplot(df_eda[\"temp\"], kde=True)\n",
    "plt.title(\"temp distribution\");"
   ]
  },
  {
   "cell_type": "markdown",
   "metadata": {
    "id": "B5y_y3Wi18j-"
   },
   "source": [
    "##### NAs"
   ]
  },
  {
   "cell_type": "code",
   "execution_count": null,
   "metadata": {
    "colab": {
     "base_uri": "https://localhost:8080/"
    },
    "id": "p4Ecv9Zj18j-",
    "outputId": "26084065-59a5-43d3-94c2-e7602fbd9123"
   },
   "outputs": [],
   "source": [
    "# Check NAs\n",
    "df_eda[\"temp\"].isna().sum()"
   ]
  },
  {
   "cell_type": "code",
   "execution_count": null,
   "metadata": {
    "colab": {
     "base_uri": "https://localhost:8080/",
     "height": 450
    },
    "id": "-A8J8cuyicIF",
    "outputId": "cb860778-6652-4af3-96b4-bbeec1e7c75d"
   },
   "outputs": [],
   "source": [
    "df[df[\"temp\"].isnull()]"
   ]
  },
  {
   "cell_type": "markdown",
   "metadata": {
    "id": "oPCI2mvticIF"
   },
   "source": [
    "*It seems like that null values are not clusters.*"
   ]
  },
  {
   "cell_type": "markdown",
   "metadata": {
    "id": "-nz-ec9W18j_"
   },
   "source": [
    "##### Outliers"
   ]
  },
  {
   "cell_type": "code",
   "execution_count": null,
   "metadata": {
    "colab": {
     "base_uri": "https://localhost:8080/",
     "height": 594
    },
    "id": "R1v9SEVp18j_",
    "outputId": "7414be37-90ae-4722-8d28-a77255d41529"
   },
   "outputs": [],
   "source": [
    "# Detect outliers\n",
    "plt.figure(figsize=(5,10))\n",
    "sns.boxplot(y=\"temp\", data=df_eda, orient=\"v\")\n",
    "plt.title(\"Temp outliers\");"
   ]
  },
  {
   "cell_type": "markdown",
   "metadata": {
    "id": "TXEgiriP1-J5"
   },
   "source": [
    "####  Atemp column"
   ]
  },
  {
   "cell_type": "markdown",
   "metadata": {
    "id": "OZ7eJkcu1-J6"
   },
   "source": [
    "##### Correctness & Consistency"
   ]
  },
  {
   "cell_type": "code",
   "execution_count": null,
   "metadata": {
    "colab": {
     "base_uri": "https://localhost:8080/"
    },
    "id": "sR_NRFTk1-J6",
    "outputId": "e0238acb-c0f6-49df-e82c-4928c8902553"
   },
   "outputs": [],
   "source": [
    "# Check basic stats\n",
    "df_eda[\"atemp\"].describe()"
   ]
  },
  {
   "cell_type": "code",
   "execution_count": null,
   "metadata": {
    "colab": {
     "base_uri": "https://localhost:8080/",
     "height": 350
    },
    "id": "DziKxWvJ1-J7",
    "outputId": "ad38d6eb-830e-4f37-c8af-ed379739dc39"
   },
   "outputs": [],
   "source": [
    "# Check distribution\n",
    "plt.figure(figsize=(10,5))\n",
    "sns.histplot(df_eda[\"atemp\"], kde=True)\n",
    "plt.title(\"atemp distribution\");"
   ]
  },
  {
   "cell_type": "markdown",
   "metadata": {
    "id": "814CSSlf1-J8"
   },
   "source": [
    "##### NAs"
   ]
  },
  {
   "cell_type": "code",
   "execution_count": null,
   "metadata": {
    "colab": {
     "base_uri": "https://localhost:8080/"
    },
    "id": "UCC6j08D1-J8",
    "outputId": "86056c89-ebbf-41b8-e9a9-8d7e24e5be20"
   },
   "outputs": [],
   "source": [
    "# Check for NAs\n",
    "df_eda[\"atemp\"].isna().sum()"
   ]
  },
  {
   "cell_type": "code",
   "execution_count": null,
   "metadata": {
    "colab": {
     "base_uri": "https://localhost:8080/",
     "height": 450
    },
    "id": "EmiCCxChicIH",
    "outputId": "e21b270a-e02a-4b3d-d933-a895b9181a48"
   },
   "outputs": [],
   "source": [
    "df[df[\"atemp\"].isnull()]"
   ]
  },
  {
   "cell_type": "markdown",
   "metadata": {
    "id": "ExFDEQbkicIH"
   },
   "source": [
    "*It seems like that null values are not clusters.*"
   ]
  },
  {
   "cell_type": "markdown",
   "metadata": {
    "id": "QAlLL5JY1-J8"
   },
   "source": [
    "##### Outliers"
   ]
  },
  {
   "cell_type": "code",
   "execution_count": null,
   "metadata": {
    "colab": {
     "base_uri": "https://localhost:8080/",
     "height": 594
    },
    "id": "W1pZjs8q1-J8",
    "outputId": "4d545d86-6e0d-4946-cf5d-69f8c734fa66"
   },
   "outputs": [],
   "source": [
    "# Detect outliers\n",
    "plt.figure(figsize=(5,10))\n",
    "sns.boxplot(y=\"atemp\", data=df_eda, orient=\"v\")\n",
    "plt.title(\"Atemp outliers\");"
   ]
  },
  {
   "cell_type": "markdown",
   "metadata": {
    "id": "bpc8NiGA2BbX"
   },
   "source": [
    "####  Hum column"
   ]
  },
  {
   "cell_type": "markdown",
   "metadata": {
    "id": "bjt0rNNS2BbY"
   },
   "source": [
    "##### Correctness & Consistency"
   ]
  },
  {
   "cell_type": "code",
   "execution_count": null,
   "metadata": {
    "colab": {
     "base_uri": "https://localhost:8080/"
    },
    "id": "W2oDClgD2BbY",
    "outputId": "54f4d0c2-a034-479f-c23f-a478def1f521"
   },
   "outputs": [],
   "source": [
    "# Check basic stats\n",
    "df_eda[\"hum\"].describe()"
   ]
  },
  {
   "cell_type": "code",
   "execution_count": null,
   "metadata": {
    "colab": {
     "base_uri": "https://localhost:8080/",
     "height": 350
    },
    "id": "iGuLnFYm2BbY",
    "outputId": "70357ec9-c360-47f5-c747-ff1653f502f8"
   },
   "outputs": [],
   "source": [
    "# Check distribution\n",
    "plt.figure(figsize=(10,5))\n",
    "sns.histplot(df_eda[\"hum\"], kde=True)\n",
    "plt.title(\"hum distribution\");"
   ]
  },
  {
   "cell_type": "code",
   "execution_count": null,
   "metadata": {
    "colab": {
     "base_uri": "https://localhost:8080/"
    },
    "id": "gLMzpIfM2Bbb",
    "outputId": "aa53fcd7-be3d-474f-93c0-4ae937eceb48"
   },
   "outputs": [],
   "source": [
    "df_eda[\"hum\"].value_counts()"
   ]
  },
  {
   "cell_type": "markdown",
   "metadata": {
    "id": "6YghkHgG2Bbb"
   },
   "source": [
    "##### NAs"
   ]
  },
  {
   "cell_type": "code",
   "execution_count": null,
   "metadata": {
    "colab": {
     "base_uri": "https://localhost:8080/"
    },
    "id": "LGW61xGF2Bbb",
    "outputId": "0d0c639c-167c-4f15-97c9-f2586210ad11"
   },
   "outputs": [],
   "source": [
    "# Check NAs\n",
    "df_eda[\"hum\"].isna().sum()"
   ]
  },
  {
   "cell_type": "code",
   "execution_count": null,
   "metadata": {
    "colab": {
     "base_uri": "https://localhost:8080/",
     "height": 450
    },
    "id": "b8xt3_RyicIJ",
    "outputId": "eeff0269-5d91-4976-81ea-119d32fe3540"
   },
   "outputs": [],
   "source": [
    "df[df[\"hum\"].isnull()]"
   ]
  },
  {
   "cell_type": "markdown",
   "metadata": {
    "id": "SOg9AiIricIJ"
   },
   "source": [
    "*It seems like that null values are not clusters.*"
   ]
  },
  {
   "cell_type": "markdown",
   "metadata": {
    "id": "SAe0OysI2Bbb"
   },
   "source": [
    "##### Outliers"
   ]
  },
  {
   "cell_type": "code",
   "execution_count": null,
   "metadata": {
    "colab": {
     "base_uri": "https://localhost:8080/",
     "height": 594
    },
    "id": "v0M4OCG42Bbb",
    "outputId": "14472f24-873b-46fc-df11-04cdd4ca9247"
   },
   "outputs": [],
   "source": [
    "# Detect outliers\n",
    "plt.figure(figsize=(5,10))\n",
    "sns.boxplot(y=\"hum\", data=df_eda, orient=\"v\")\n",
    "plt.title(\"Hum outliers\");"
   ]
  },
  {
   "cell_type": "markdown",
   "metadata": {
    "id": "L_tso62b2CjA"
   },
   "source": [
    "####  Windspeed column"
   ]
  },
  {
   "cell_type": "markdown",
   "metadata": {
    "id": "Li3g8_vN2CjA"
   },
   "source": [
    "##### Correctness & Consistency"
   ]
  },
  {
   "cell_type": "code",
   "execution_count": null,
   "metadata": {
    "colab": {
     "base_uri": "https://localhost:8080/"
    },
    "id": "_AgpgvTB2CjB",
    "outputId": "21a7f93c-7bd2-4cef-a535-78647449d4d3"
   },
   "outputs": [],
   "source": [
    "# Check basic stats\n",
    "df_eda[\"windspeed\"].describe()"
   ]
  },
  {
   "cell_type": "code",
   "execution_count": null,
   "metadata": {
    "colab": {
     "base_uri": "https://localhost:8080/",
     "height": 350
    },
    "id": "4zENJ_nS2CjB",
    "outputId": "30c1bcfc-3ec6-46da-8572-3a31fc5f1ad0"
   },
   "outputs": [],
   "source": [
    "# Check distribution\n",
    "plt.figure(figsize=(10,5))\n",
    "sns.histplot(df_eda[\"windspeed\"], kde=True)\n",
    "plt.title(\"windspeed distribution\");"
   ]
  },
  {
   "cell_type": "markdown",
   "metadata": {
    "id": "-hXqsk9u2CjC"
   },
   "source": [
    "##### NAs"
   ]
  },
  {
   "cell_type": "code",
   "execution_count": null,
   "metadata": {
    "colab": {
     "base_uri": "https://localhost:8080/"
    },
    "id": "gW3UvHYc2CjD",
    "outputId": "2db3c77e-d54d-4863-c2cc-23e6219a927d"
   },
   "outputs": [],
   "source": [
    "# Check NAs\n",
    "df_eda[\"windspeed\"].isna().sum()"
   ]
  },
  {
   "cell_type": "code",
   "execution_count": null,
   "metadata": {
    "colab": {
     "base_uri": "https://localhost:8080/",
     "height": 450
    },
    "id": "sJVoGScIicIK",
    "outputId": "e0868d40-9a93-4ec5-ba1a-8e9146351946"
   },
   "outputs": [],
   "source": [
    "df[df[\"windspeed\"].isnull()]"
   ]
  },
  {
   "cell_type": "markdown",
   "metadata": {
    "id": "HV_9bY3JicIK"
   },
   "source": [
    "*It seems like that null values are not clusters.*"
   ]
  },
  {
   "cell_type": "markdown",
   "metadata": {
    "id": "BfqrV-lA2CjD"
   },
   "source": [
    "##### Outliers"
   ]
  },
  {
   "cell_type": "code",
   "execution_count": null,
   "metadata": {
    "colab": {
     "base_uri": "https://localhost:8080/",
     "height": 594
    },
    "id": "1dSyMr5g2CjD",
    "outputId": "fe882582-26be-429d-8eee-8c0540cbdeb4"
   },
   "outputs": [],
   "source": [
    "# Detect outliers\n",
    "plt.figure(figsize=(5,10))\n",
    "sns.boxplot(y=\"windspeed\", data=df_eda, orient=\"v\")\n",
    "plt.title(\"Windspeed outliers\");"
   ]
  },
  {
   "cell_type": "markdown",
   "metadata": {
    "id": "mBxNViIqmiTb"
   },
   "source": [
    "### EDA target variable\n"
   ]
  },
  {
   "cell_type": "markdown",
   "metadata": {
    "id": "GoVhD2winahu"
   },
   "source": [
    "### Count analyis\n",
    "\n",
    "*Target variable is count which is a summation of casual and registered users in this data set.*"
   ]
  },
  {
   "cell_type": "markdown",
   "metadata": {
    "id": "9xEIw5Q0nahu"
   },
   "source": [
    "#### Outliers\n"
   ]
  },
  {
   "cell_type": "code",
   "execution_count": 23,
   "metadata": {
    "colab": {
     "base_uri": "https://localhost:8080/",
     "height": 594
    },
    "id": "IsHXTBwpnahu",
    "outputId": "52c0070d-5f57-4734-97a3-db8c4819eba2"
   },
   "outputs": [
    {
     "data": {
      "image/png": "[encoded data removed]",
      "text/plain": [
       "<Figure size 360x720 with 1 Axes>"
      ]
     },
     "metadata": {
      "needs_background": "light"
     },
     "output_type": "display_data"
    }
   ],
   "source": [
    "# Check boxplot on outliers\n",
    "plt.figure(figsize=(5,10))\n",
    "sns.boxplot(data=df_eda,y=\"count\",orient=\"v\")\n",
    "plt.title(\"count boxplot\");"
   ]
  },
  {
   "cell_type": "markdown",
   "metadata": {
    "id": "X-q-oAeTTD5L"
   },
   "source": [
    "*Conclusion: Detecting outliers in the count boxplot, further investigation will be shown further down in the code*"
   ]
  },
  {
   "cell_type": "markdown",
   "metadata": {
    "id": "NMsr1MkGnahv"
   },
   "source": [
    "#### Distribution"
   ]
  },
  {
   "cell_type": "code",
   "execution_count": 24,
   "metadata": {
    "colab": {
     "base_uri": "https://localhost:8080/",
     "height": 402
    },
    "id": "MjiO4xO-nahv",
    "outputId": "b3997ac2-b62b-443a-bcbe-82ee764628ba"
   },
   "outputs": [
    {
     "ename": "AttributeError",
     "evalue": "module 'seaborn' has no attribute 'displot'",
     "output_type": "error",
     "traceback": [
      "\u001b[1;31m---------------------------------------------------------------------------\u001b[0m",
      "\u001b[1;31mAttributeError\u001b[0m                            Traceback (most recent call last)",
      "\u001b[1;32m<ipython-input-24-31ed2a4cfd03>\u001b[0m in \u001b[0;36m<module>\u001b[1;34m\u001b[0m\n\u001b[0;32m      1\u001b[0m \u001b[1;31m# Distribution of count attribute\u001b[0m\u001b[1;33m\u001b[0m\u001b[1;33m\u001b[0m\u001b[1;33m\u001b[0m\u001b[0m\n\u001b[0;32m      2\u001b[0m \u001b[0mplt\u001b[0m\u001b[1;33m.\u001b[0m\u001b[0mfigure\u001b[0m\u001b[1;33m(\u001b[0m\u001b[0mfigsize\u001b[0m\u001b[1;33m=\u001b[0m\u001b[1;33m(\u001b[0m\u001b[1;36m10\u001b[0m\u001b[1;33m,\u001b[0m\u001b[1;36m5\u001b[0m\u001b[1;33m)\u001b[0m\u001b[1;33m)\u001b[0m\u001b[1;33m\u001b[0m\u001b[1;33m\u001b[0m\u001b[0m\n\u001b[1;32m----> 3\u001b[1;33m \u001b[0msns\u001b[0m\u001b[1;33m.\u001b[0m\u001b[0mdisplot\u001b[0m\u001b[1;33m(\u001b[0m\u001b[0mdf_eda\u001b[0m\u001b[1;33m[\u001b[0m\u001b[1;34m\"count\"\u001b[0m\u001b[1;33m]\u001b[0m\u001b[1;33m)\u001b[0m\u001b[1;33m\u001b[0m\u001b[1;33m\u001b[0m\u001b[0m\n\u001b[0m\u001b[0;32m      4\u001b[0m \u001b[0mplt\u001b[0m\u001b[1;33m.\u001b[0m\u001b[0mtitle\u001b[0m\u001b[1;33m(\u001b[0m\u001b[1;34m\"count distribution\"\u001b[0m\u001b[1;33m)\u001b[0m\u001b[1;33m;\u001b[0m\u001b[1;33m\u001b[0m\u001b[1;33m\u001b[0m\u001b[0m\n",
      "\u001b[1;31mAttributeError\u001b[0m: module 'seaborn' has no attribute 'displot'"
     ]
    },
    {
     "data": {
      "text/plain": [
       "<Figure size 720x360 with 0 Axes>"
      ]
     },
     "metadata": {},
     "output_type": "display_data"
    }
   ],
   "source": [
    "# Distribution of count attribute\n",
    "plt.figure(figsize=(10,5))\n",
    "sns.displot(df_eda[\"count\"])\n",
    "plt.title(\"count distribution\");"
   ]
  },
  {
   "cell_type": "markdown",
   "metadata": {
    "id": "yonpF8JHTz7n"
   },
   "source": [
    "*Conclusion: The distribution of the count shows that it is not normally distributed and is right skewed distributed. For the next step log will be used to see if a normal distribution can be achieved.*"
   ]
  },
  {
   "cell_type": "code",
   "execution_count": 25,
   "metadata": {
    "colab": {
     "base_uri": "https://localhost:8080/",
     "height": 402
    },
    "id": "_l7i1piLnahv",
    "outputId": "38366cc1-9542-472f-cea2-89e394a16dc7"
   },
   "outputs": [
    {
     "ename": "AttributeError",
     "evalue": "module 'seaborn' has no attribute 'displot'",
     "output_type": "error",
     "traceback": [
      "\u001b[1;31m---------------------------------------------------------------------------\u001b[0m",
      "\u001b[1;31mAttributeError\u001b[0m                            Traceback (most recent call last)",
      "\u001b[1;32m<ipython-input-25-5782d872a4d7>\u001b[0m in \u001b[0;36m<module>\u001b[1;34m\u001b[0m\n\u001b[0;32m      1\u001b[0m \u001b[1;31m# As the distribution was skewed, log transformation is used on count attribute\u001b[0m\u001b[1;33m\u001b[0m\u001b[1;33m\u001b[0m\u001b[1;33m\u001b[0m\u001b[0m\n\u001b[0;32m      2\u001b[0m \u001b[0mplt\u001b[0m\u001b[1;33m.\u001b[0m\u001b[0mfigure\u001b[0m\u001b[1;33m(\u001b[0m\u001b[0mfigsize\u001b[0m\u001b[1;33m=\u001b[0m\u001b[1;33m(\u001b[0m\u001b[1;36m10\u001b[0m\u001b[1;33m,\u001b[0m\u001b[1;36m5\u001b[0m\u001b[1;33m)\u001b[0m\u001b[1;33m)\u001b[0m\u001b[1;33m\u001b[0m\u001b[1;33m\u001b[0m\u001b[0m\n\u001b[1;32m----> 3\u001b[1;33m \u001b[0msns\u001b[0m\u001b[1;33m.\u001b[0m\u001b[0mdisplot\u001b[0m\u001b[1;33m(\u001b[0m\u001b[0mnp\u001b[0m\u001b[1;33m.\u001b[0m\u001b[0mlog\u001b[0m\u001b[1;33m(\u001b[0m\u001b[0mdf_eda\u001b[0m\u001b[1;33m[\u001b[0m\u001b[1;34m\"count\"\u001b[0m\u001b[1;33m]\u001b[0m\u001b[1;33m)\u001b[0m\u001b[1;33m,\u001b[0m \u001b[0mkde\u001b[0m\u001b[1;33m=\u001b[0m\u001b[1;32mTrue\u001b[0m\u001b[1;33m)\u001b[0m\u001b[1;33m\u001b[0m\u001b[1;33m\u001b[0m\u001b[0m\n\u001b[0m\u001b[0;32m      4\u001b[0m \u001b[0mplt\u001b[0m\u001b[1;33m.\u001b[0m\u001b[0mtitle\u001b[0m\u001b[1;33m(\u001b[0m\u001b[1;34m\"log(count) distribution\"\u001b[0m\u001b[1;33m)\u001b[0m\u001b[1;33m;\u001b[0m\u001b[1;33m\u001b[0m\u001b[1;33m\u001b[0m\u001b[0m\n",
      "\u001b[1;31mAttributeError\u001b[0m: module 'seaborn' has no attribute 'displot'"
     ]
    },
    {
     "data": {
      "text/plain": [
       "<Figure size 720x360 with 0 Axes>"
      ]
     },
     "metadata": {},
     "output_type": "display_data"
    }
   ],
   "source": [
    "# As the distribution was skewed, log transformation is used on count attribute\n",
    "plt.figure(figsize=(10,5))\n",
    "sns.displot(np.log(df_eda[\"count\"]), kde=True)\n",
    "plt.title(\"log(count) distribution\");"
   ]
  },
  {
   "cell_type": "markdown",
   "metadata": {
    "id": "rI13XUEHT6gI"
   },
   "source": [
    "*Conclusion: with the log the distribution is getting closer to a normal distribution. We are going to use log(count) in our model.*"
   ]
  },
  {
   "cell_type": "markdown",
   "metadata": {
    "id": "9Xi4t6z5nahv"
   },
   "source": [
    "### Time related analsysis\n",
    "\n",
    "*Target variable is date. EDA is performed on date components and seasons.*"
   ]
  },
  {
   "cell_type": "markdown",
   "metadata": {
    "id": "nwiMWpibnahw"
   },
   "source": [
    "#### Outliers"
   ]
  },
  {
   "cell_type": "code",
   "execution_count": 26,
   "metadata": {
    "colab": {
     "base_uri": "https://localhost:8080/",
     "height": 638,
     "referenced_widgets": [
      "d157556630ec455db1c1a4408c8ec4de",
      "a7fd68f1c24047ef93233b7b2207f490",
      "2fbfb2b88df144e58270a8fc71722e38",
      "7417be5f0ce448d88f6b401999287c37",
      "d8b737457b5e4ec3ab66a7f34f533cac",
      "c52f0c84c0f24e988614e85024b198c7",
      "28fc421b66a74567b6d9de88bd0c5574"
     ]
    },
    "id": "FH-HvWMLicIN",
    "outputId": "a2f7f2cc-c4c3-4bd4-b447-e8953ef48163"
   },
   "outputs": [
    {
     "data": {
      "image/png": "[encoded data removed]",
      "text/plain": [
       "<Figure size 720x720 with 1 Axes>"
      ]
     },
     "metadata": {
      "needs_background": "light"
     },
     "output_type": "display_data"
    }
   ],
   "source": [
    "# Detect outliers based on seasonality, hours or years\n",
    "@ipw.interact(column_name = ipw.Dropdown(options = [\"season\",\"hour\",\"year\"]))\n",
    "def out_graph(column_name):\n",
    "      plt.figure(figsize=(10,10))\n",
    "      sns.boxplot(data=df_eda,y=\"count\", x = df_eda[column_name], orient=\"v\")"
   ]
  },
  {
   "cell_type": "code",
   "execution_count": 27,
   "metadata": {
    "colab": {
     "base_uri": "https://localhost:8080/",
     "height": 334
    },
    "id": "ceb4tX8Qnahz",
    "outputId": "957ff007-c955-4fbb-d8da-8b91933764ee"
   },
   "outputs": [
    {
     "data": {
      "image/png": "[encoded data removed]",
      "text/plain": [
       "<Figure size 720x360 with 1 Axes>"
      ]
     },
     "metadata": {
      "needs_background": "light"
     },
     "output_type": "display_data"
    }
   ],
   "source": [
    "#Check the distribution working day per hour vs count\n",
    "plt.figure(figsize=(10,5))\n",
    "sns.pointplot(x=\"hour\", y=\"count\", data=df_eda, hue=\"workingday\");"
   ]
  },
  {
   "cell_type": "markdown",
   "metadata": {
    "id": "9qemgQRfK3RD"
   },
   "source": [
    "*Conclusion: During the workday it is visible that the demand of bike rentals are increasing during the normal rush hours. On the weekends curve has it's peak during lunch time. This explains also the outliers in the previous graphs. Therefore the hours and workingdays are necessary and will be used in the feature engineering part*"
   ]
  },
  {
   "cell_type": "code",
   "execution_count": null,
   "metadata": {
    "colab": {
     "base_uri": "https://localhost:8080/",
     "height": 311,
     "referenced_widgets": [
      "1b58cfd054894a8bb2259a649f4aed93",
      "e9b026550d3f497b92ff7abbac4fae1d",
      "90849ae187b24de9afd41de1201be47f",
      "e675ea2727504f78aff789d53242562c",
      "d327023d27c94d8788511b1da3931b54",
      "5d11da2dd6da46fdabedf24ab79b36a5",
      "f5ec19e357ed4cc886424ad54d0eb683"
     ]
    },
    "id": "AR5XNenQicIN",
    "outputId": "4533ab9d-da46-4907-91ec-5aade71698bc",
    "scrolled": true
   },
   "outputs": [],
   "source": [
    "#Check the distribution weather vs count or season vs count\n",
    "@ipw.interact(column_name = ipw.Dropdown(options = [\"season\",\"weathersit\"]))\n",
    "def out_graph(column_name):\n",
    "    sns.pointplot(data=df_eda,y=\"count\", x = \"hour\", hue=df_eda[column_name], orient=\"v\")\n",
    "    plt.legend(bbox_to_anchor=(1.05, 1), loc=2, borderaxespad=0.)"
   ]
  },
  {
   "cell_type": "markdown",
   "metadata": {
    "id": "IYSma24WXTI5"
   },
   "source": [
    "*Conclusion: Rental numbers are following the same pattern in the different seasons and in the different weathersituations. The seasons and the weathersituation are also necessary indicators and will be used for the feature engineering part*"
   ]
  },
  {
   "cell_type": "markdown",
   "metadata": {
    "id": "zKZbpz-QicIO"
   },
   "source": [
    "*Null values: The null values are in columns that are weather related and randomly splitted. We will use a KNNInputer because these values can be normally imputed by its neighbors.*\n",
    "\n",
    "*Outliers: Based on the different weather and sitaution which impacts the count, we are not going to drop any outliers*"
   ]
  },
  {
   "cell_type": "markdown",
   "metadata": {
    "id": "fzQslGQhicIO"
   },
   "source": [
    "### Correlations"
   ]
  },
  {
   "cell_type": "code",
   "execution_count": null,
   "metadata": {
    "colab": {
     "base_uri": "https://localhost:8080/",
     "height": 602
    },
    "id": "k-j0ZK5ticIO",
    "outputId": "e6983ac2-b139-4024-9b9f-19b2736a8e2d"
   },
   "outputs": [],
   "source": [
    "# CORRELATION HEATMAP\n",
    "corr = df_eda.corr()\n",
    "\n",
    "# Generate a mask for the upper triangle\n",
    "mask = np.triu(np.ones_like(corr, dtype=bool))\n",
    "\n",
    "# Set up the matplotlib figure\n",
    "f, ax = plt.subplots(figsize=(11, 9))\n",
    "\n",
    "# Generate a custom diverging colormap\n",
    "cmap = sns.diverging_palette(230, 20, as_cmap=True)\n",
    "\n",
    "# Draw the heatmap with the mask and correct aspect ratio\n",
    "sns.heatmap(corr,annot = False, mask=mask, cmap=cmap, vmax=.3, center=0,\n",
    "            square=True, linewidths=.5, cbar_kws={\"shrink\": .5})"
   ]
  },
  {
   "cell_type": "code",
   "execution_count": null,
   "metadata": {
    "colab": {
     "base_uri": "https://localhost:8080/",
     "height": 483
    },
    "id": "4qBe0k9TicIO",
    "outputId": "678e1078-c8fd-47ee-82bc-3f21facfad07"
   },
   "outputs": [],
   "source": [
    "corr"
   ]
  },
  {
   "cell_type": "code",
   "execution_count": null,
   "metadata": {
    "colab": {
     "base_uri": "https://localhost:8080/",
     "height": 1000
    },
    "id": "qzLeyrqmicIP",
    "outputId": "236b6007-3db4-427d-8037-4dd6025751ff"
   },
   "outputs": [],
   "source": [
    "sns.pairplot(corr)"
   ]
  },
  {
   "cell_type": "markdown",
   "metadata": {
    "id": "4SJ53VlPicIP"
   },
   "source": [
    "*Conclusion: Weekday and workingday are highly correlated which makes obviously sense. We can assume that casual bookings occur more often on the weekend. Also we can observe a high correlation (0.98) between atemp and temp.*"
   ]
  },
  {
   "cell_type": "markdown",
   "metadata": {
    "id": "wvvDyumBnahz"
   },
   "source": [
    "## Feature Engineering\n",
    "\n",
    "*Defining the function, which will be used to transform the attributes of the data set.*"
   ]
  },
  {
   "cell_type": "markdown",
   "metadata": {
    "id": "rxK5dlcPIff2"
   },
   "source": [
    "### Feature Creation\n",
    "\n",
    "*During the analysis we have seen that variables like season and workingday are important. In this section we are going to create the same logic but implementing them in the sklearn mehthdology (e.g. `FunctionTransformer`) to benefit from its extensive capabilites.*"
   ]
  },
  {
   "cell_type": "markdown",
   "metadata": {
    "id": "f9OyL_B6MfDY"
   },
   "source": [
    "#### Create season column"
   ]
  },
  {
   "cell_type": "code",
   "execution_count": null,
   "metadata": {
    "id": "E1mYTchZIV7X"
   },
   "outputs": [],
   "source": [
    "def season_extractor(series):\n",
    "    def get_season(date_to_convert):  # the function expects a datetime.date object as input\n",
    "        \n",
    "        # fix the year of the input\n",
    "        date_year = date_to_convert.year\n",
    "        \n",
    "        # create the list of tuples on which to loop\n",
    "        seasons = [\n",
    "            (0, date(date_year, 12, 21), date(date_year, 12, 31)),\n",
    "            (1, date(date_year, 3, 20), date(date_year, 6, 21)),\n",
    "            (2, date(date_year, 6, 22), date(date_year, 9, 21)),\n",
    "            (3, date(date_year, 9, 22), date(date_year, 12, 20)),\n",
    "            (0, date(date_year, 1, 1), date(date_year, 3, 19))\n",
    "        ]\n",
    "        \n",
    "        # loop for each season trying to find the season to which\n",
    "        # date_to_convert belongs to\n",
    "        for elem in seasons:  # season = tuple(name, start, end) = (elem[0], elem[1], elem[2])\n",
    "            if date_to_convert>=elem[1] and date_to_convert<=elem[2]:  \n",
    "                return elem[0]   \n",
    "            \n",
    "    return series.map(get_season).to_frame()\n",
    "\n",
    "season_extractor = FunctionTransformer(season_extractor)"
   ]
  },
  {
   "cell_type": "markdown",
   "metadata": {
    "id": "-Th31qPrMyFR"
   },
   "source": [
    "#### Create holiday column"
   ]
  },
  {
   "cell_type": "code",
   "execution_count": null,
   "metadata": {
    "id": "BAahdM5kNRzu"
   },
   "outputs": [],
   "source": [
    "def holiday_extractor(series):\n",
    "    df=pd.DataFrame()\n",
    "    cal = calendar()\n",
    "    holidays = cal.holidays(start=series.min(), end=series.max())\n",
    "    df[\"Holiday\"]=np.where(series.dt.day.isin(holidays),True,False)\n",
    "    return df\n",
    "\n",
    "holiday_extractor = FunctionTransformer(holiday_extractor)"
   ]
  },
  {
   "cell_type": "markdown",
   "metadata": {
    "id": "bPZM9qNKOCDF"
   },
   "source": [
    "#### Create a workingday column"
   ]
  },
  {
   "cell_type": "code",
   "execution_count": null,
   "metadata": {
    "id": "GAtl2fTcOGAK"
   },
   "outputs": [],
   "source": [
    "def workingday_extractor(series):\n",
    "        df=pd.DataFrame()\n",
    "        df[\"Workingday\"]=np.where(series.dt.weekday < 5,True,False)\n",
    "        return df\n",
    "\n",
    "workingday_extractor = FunctionTransformer(workingday_extractor)"
   ]
  },
  {
   "cell_type": "markdown",
   "metadata": {
    "id": "-h2qJjKkaT1R"
   },
   "source": [
    "#### Create year column"
   ]
  },
  {
   "cell_type": "code",
   "execution_count": null,
   "metadata": {
    "id": "0geYV5XTabbq"
   },
   "outputs": [],
   "source": [
    "def year_extractor(series):\n",
    "    df=pd.DataFrame()\n",
    "    df[\"year\"]=series.dt.year\n",
    "    return df\n",
    " \n",
    "year_extractor = FunctionTransformer(year_extractor)"
   ]
  },
  {
   "cell_type": "markdown",
   "metadata": {
    "id": "vMW7LrFta88_"
   },
   "source": [
    "#### Create month column"
   ]
  },
  {
   "cell_type": "code",
   "execution_count": null,
   "metadata": {
    "id": "SURwOyfma89A"
   },
   "outputs": [],
   "source": [
    "def month_extractor(series):\n",
    "    df=pd.DataFrame()\n",
    "    df[\"month\"]=series.dt.month\n",
    "    return df\n",
    " \n",
    "month_extractor = FunctionTransformer(month_extractor)"
   ]
  },
  {
   "cell_type": "markdown",
   "metadata": {
    "id": "G1C_YWSEa9Xt"
   },
   "source": [
    "#### Create day column"
   ]
  },
  {
   "cell_type": "code",
   "execution_count": null,
   "metadata": {
    "id": "4RtcJVsTa9Xt"
   },
   "outputs": [],
   "source": [
    "def day_extractor(series):\n",
    "    df=pd.DataFrame()\n",
    "    df[\"day\"]=series.dt.day\n",
    "    return df\n",
    " \n",
    "day_extractor = FunctionTransformer(day_extractor)"
   ]
  },
  {
   "cell_type": "markdown",
   "metadata": {
    "id": "hcQf6xJaSChg"
   },
   "source": [
    "#### Weekday Extractor"
   ]
  },
  {
   "cell_type": "code",
   "execution_count": null,
   "metadata": {
    "id": "VMQdWMPOSChg"
   },
   "outputs": [],
   "source": [
    "def weekday_extractor(series):\n",
    "    df = pd.DataFrame()\n",
    "    df[\"Weekday\"] = series.dt.weekday\n",
    "    return df\n",
    " \n",
    "weekday_extractor = FunctionTransformer(weekday_extractor)"
   ]
  },
  {
   "cell_type": "markdown",
   "metadata": {
    "id": "9j6OUGU94oya"
   },
   "source": [
    "### Helper functions\n",
    "\n",
    "*For the following transformation of the columns additional functions were created which were not provided by sklearn*"
   ]
  },
  {
   "cell_type": "code",
   "execution_count": null,
   "metadata": {
    "id": "FG7WM_AxSChh"
   },
   "outputs": [],
   "source": [
    "# Encode the weathersit. E.g. sklearn's OrdinalEncoder cannot handle null values (documentaion is faulty)\n",
    "def categorizer(series):\n",
    "    \n",
    "    def encode(weathersit):\n",
    "        if weathersit == \"Clear, Few clouds, Partly cloudy, Partly cloudy\":\n",
    "            return 0\n",
    "        elif weathersit == \"Mist + Cloudy, Mist + Broken clouds, Mist + Few clouds, Mist\":\n",
    "            return 1\n",
    "        elif weathersit == \"Light Snow, Light Rain + Thunderstorm + Scattered clouds, Light Rain + Scattered clouds\":\n",
    "            return 2\n",
    "        elif weathersit == \"Heavy Rain + Ice Pallets + Thunderstorm + Mist, Snow + Fog\":\n",
    "            return 3\n",
    "        else:\n",
    "            return weathersit\n",
    "        \n",
    "    return series.map(encode).to_frame()\n",
    "\n",
    "\n",
    "weathersit_encoder = FunctionTransformer(categorizer)"
   ]
  },
  {
   "cell_type": "code",
   "execution_count": null,
   "metadata": {
    "id": "iQlqdYSaSChh"
   },
   "outputs": [],
   "source": [
    "# Rounds the derived values from the KNNImputer back to integers and therefore in the proper category\n",
    "def rounder(series):\n",
    "    return pd.DataFrame(np.rint(series))\n",
    "\n",
    "weathersit_rounder = FunctionTransformer(rounder)"
   ]
  },
  {
   "cell_type": "markdown",
   "metadata": {
    "id": "bIeydgFGt3KV"
   },
   "source": [
    "## Model Building\n",
    "\n",
    "*With all the exploration done on the dataset, we have enough insights to determine which attributes are the determining factor to predict the count for bicycle riders.*"
   ]
  },
  {
   "cell_type": "markdown",
   "metadata": {
    "id": "lZYjOS9Uz-dK"
   },
   "source": [
    "### Basic Model Building\n",
    "The count being a continuous variable, to predict it we need the Regressor family models, such as Linear Regression, Random Forest Regression to predict.\n",
    "\n",
    "As a start to build this model, we take only these facts into consideration:\n",
    "1. The dataset in its original state has NA values,\n",
    "2. The Regression models only work with numerical data.\n",
    "\n",
    "For simplicity and to start our journey, we discard the observations with contains the NA and as independent variables we only take the numerical ones ( temp, atemp, hum, windspeed ) into consideration"
   ]
  },
  {
   "cell_type": "markdown",
   "metadata": {
    "id": "2eg1d1OricIS"
   },
   "source": [
    "###  Cross Validation with TimeSeriesSplit"
   ]
  },
  {
   "cell_type": "markdown",
   "metadata": {
    "id": "0N-Oo-c_icIS"
   },
   "source": [
    "#### Required functions\n",
    "\n",
    "We are not using the TimeSeriesSplit() of sklearn because of the following reasons:\n",
    "1. this method splits it into train\\test sets in a “sliding window” approach, but it doesn’t allow us to choose the sets sizes, we can only choose how many splits we would like to have.\n",
    "2. Scikit-learn TimeSeriesSplit also assumes that there is one observation per date\n",
    "\n",
    "Thus we user-defined functions, as we have multiple observations per date\n",
    "\n",
    "Code from: https://towardsdatascience.com/time-based-cross-validation-d259b13d42b8"
   ]
  },
  {
   "cell_type": "code",
   "execution_count": null,
   "metadata": {
    "id": "T8FlqHIQicIT"
   },
   "outputs": [],
   "source": [
    "import pandas as pd\n",
    "import datetime\n",
    "from datetime import datetime as dt\n",
    "from dateutil.relativedelta import *\n",
    "\n",
    "class TimeBasedCV(object):\n",
    "    '''\n",
    "    Parameters \n",
    "    ----------\n",
    "    train_period: int\n",
    "        number of time units to include in each train set\n",
    "        default is 30\n",
    "    test_period: int\n",
    "        number of time units to include in each test set\n",
    "        default is 7\n",
    "    freq: string\n",
    "        frequency of input parameters. possible values are: days, months, years, weeks, hours, minutes, seconds\n",
    "        possible values designed to be used by dateutil.relativedelta class\n",
    "        deafault is days\n",
    "    '''\n",
    "    \n",
    "    \n",
    "    def __init__(self, train_period=30, test_period=7, freq='days'):\n",
    "        self.train_period = train_period\n",
    "        self.test_period = test_period\n",
    "        self.freq = freq\n",
    "\n",
    "        \n",
    "        \n",
    "    def split(self, data, validation_split_date=None, date_column='date', gap=0):\n",
    "        '''\n",
    "        Generate indices to split data into training and test set\n",
    "        \n",
    "        Parameters \n",
    "        ----------\n",
    "        data: pandas DataFrame\n",
    "            your data, contain one column for the record date \n",
    "        validation_split_date: datetime.date()\n",
    "            first date to perform the splitting on.\n",
    "            if not provided will set to be the minimum date in the data after the first training set\n",
    "        date_column: string, deafult='record_date'\n",
    "            date of each record\n",
    "        gap: int, default=0\n",
    "            for cases the test set does not come right after the train set,\n",
    "            *gap* days are left between train and test sets\n",
    "        \n",
    "        Returns \n",
    "        -------\n",
    "        train_index ,test_index: \n",
    "            list of tuples (train index, test index) similar to sklearn model selection\n",
    "        '''\n",
    "        \n",
    "        # check that date_column exist in the data:\n",
    "        try:\n",
    "            data[date_column]\n",
    "        except:\n",
    "            raise KeyError(date_column)\n",
    "                    \n",
    "        train_indices_list = []\n",
    "        test_indices_list = []\n",
    "\n",
    "        if validation_split_date==None:\n",
    "            validation_split_date = data[date_column].min().date() + eval('relativedelta('+self.freq+'=self.train_period)')\n",
    "        \n",
    "        start_train = validation_split_date - eval('relativedelta('+self.freq+'=self.train_period)')\n",
    "        end_train = start_train + eval('relativedelta('+self.freq+'=self.train_period)')\n",
    "        start_test = end_train + eval('relativedelta('+self.freq+'=gap)')\n",
    "        end_test = start_test + eval('relativedelta('+self.freq+'=self.test_period)')\n",
    "\n",
    "        while end_test < data[date_column].max().date():\n",
    "            # train indices:\n",
    "            cur_train_indices = list(data[(data[date_column].dt.date>=start_train) & \n",
    "                                     (data[date_column].dt.date<end_train)].index)\n",
    "\n",
    "            # test indices:\n",
    "            cur_test_indices = list(data[(data[date_column].dt.date>=start_test) &\n",
    "                                    (data[date_column].dt.date<end_test)].index)\n",
    "            \n",
    "            print(\"Train period:\",start_train,\"-\" , end_train, \", Test period\", start_test, \"-\", end_test,\n",
    "                 \"# train records\", len(cur_train_indices), \", # test records\", len(cur_test_indices))\n",
    "\n",
    "            train_indices_list.append(cur_train_indices)\n",
    "            test_indices_list.append(cur_test_indices)\n",
    "\n",
    "            # update dates:\n",
    "            start_train = start_train + eval('relativedelta('+self.freq+'=self.test_period)')\n",
    "            end_train = start_train + eval('relativedelta('+self.freq+'=self.train_period)')\n",
    "            start_test = end_train + eval('relativedelta('+self.freq+'=gap)')\n",
    "            end_test = start_test + eval('relativedelta('+self.freq+'=self.test_period)')\n",
    "\n",
    "        # mimic sklearn output  \n",
    "        index_output = [(train,test) for train,test in zip(train_indices_list,test_indices_list)]\n",
    "\n",
    "        self.n_splits = len(index_output)\n",
    "        \n",
    "        return index_output\n",
    "    \n",
    "    \n",
    "    def get_n_splits(self):\n",
    "        \"\"\"Returns the number of splitting iterations in the cross-validator\n",
    "        Returns\n",
    "        -------\n",
    "        n_splits : int\n",
    "            Returns the number of splitting iterations in the cross-validator.\n",
    "        \"\"\"\n",
    "        return self.n_splits "
   ]
  },
  {
   "cell_type": "code",
   "execution_count": null,
   "metadata": {
    "id": "PVbY3kHRSChj"
   },
   "outputs": [],
   "source": [
    "# The below function is defined which will fit the train data on the model we choose, \n",
    "# and calculate the predictions based on our test set\n",
    "# Also, prints out the R2 Score for that model\n",
    "def fit_predict(clf, X_train, y_train, X_test, y_test):\n",
    "    \n",
    "    # Step 1: Log Transformation of Target Value y\n",
    "    log_y = np.log1p(y_train)  \n",
    "    \n",
    "    # Step 2: Fit the train data\n",
    "    clf.fit(X_train, log_y)    \n",
    "\n",
    "    # Step 3 : Predict\n",
    "    prediction = clf.predict(X_test)\n",
    "\n",
    "    # Step 4 : Evaluate\n",
    "    print('R2 Value:',metrics.r2_score(np.log1p(y_test), prediction))\n",
    "    # plot for residual error\n",
    " \n",
    "    # setting plot style\n",
    "    plt.style.use('fivethirtyeight')\n",
    "    \n",
    "    # plotting residual errors in test data\n",
    "    plt.scatter(clf.predict(X_test), clf.predict(X_test) - np.log1p(y_test),\n",
    "                color = \"blue\", s = 5, label = 'Test data')\n",
    "     \n",
    "    # plotting line for zero residual error\n",
    "    plt.hlines(y = 0, xmin = 2, xmax = 6, linewidth = 2)\n",
    "     \n",
    "    # plotting legend\n",
    "    plt.legend(loc = 'upper right')\n",
    "     \n",
    "    # plot title\n",
    "    plt.title(\"Residual errors\")\n",
    "     \n",
    "    # method call for showing the plot\n",
    "    plt.show()"
   ]
  },
  {
   "cell_type": "code",
   "execution_count": null,
   "metadata": {
    "id": "KOoEWosGwheK"
   },
   "outputs": [],
   "source": [
    "# Load data \n",
    "df = pd.read_csv(\"hour.csv\", index_col=\"instant\", parse_dates=[\"dteday\"])\n",
    "\n",
    "df = df.rename(columns={\"hr\": \"hour\", \"cnt\":\"count\", \"dteday\":\"date\"})"
   ]
  },
  {
   "cell_type": "markdown",
   "metadata": {
    "id": "jCHwx1kNicIT"
   },
   "source": [
    "We re-read the data, so that we are able to drop the NA rows and even drop the date as it will be dealt with later.\n",
    "\n",
    "We split on the basis of the date provided to us,\n",
    "1. Train set: whole 2011, till 3rd quarter of 2012\n",
    "2. Test set: 4th quarter of 2012"
   ]
  },
  {
   "cell_type": "code",
   "execution_count": null,
   "metadata": {
    "colab": {
     "base_uri": "https://localhost:8080/"
    },
    "id": "yIBvThifuAmF",
    "outputId": "d8cd9fa3-fc59-415a-93b6-a9c4369154a0"
   },
   "outputs": [],
   "source": [
    "date_split = pd.to_datetime(\"2012-10-01\")\n",
    "\n",
    "#Basic model so dropiing the NAs\n",
    "df=df.dropna()\n",
    "\n",
    "# training vs target\n",
    "x = df.drop([\"count\",\"registered\",\"casual\"], axis=1)\n",
    "y = df[[\"date\",\"count\"]]\n",
    "\n",
    "# splitting data\n",
    "X_train = x[x[\"date\"] < date_split].drop(\"date\", axis=1)\n",
    "X_test = x[x[\"date\"] >= date_split].drop(\"date\", axis=1)\n",
    "y_train = y[y[\"date\"] < date_split].drop(\"date\", axis=1).values.ravel()\n",
    "y_test = y[y[\"date\"] >= date_split].drop(\"date\", axis=1).values.ravel()\n",
    "print(\"X_train:\", X_train.shape)\n",
    "print(\"X_test:\", X_test.shape)\n",
    "print(\"y_train:\", y_train.shape)\n",
    "print(\"y_test:\", y_test.shape)"
   ]
  },
  {
   "cell_type": "code",
   "execution_count": null,
   "metadata": {
    "id": "PZTbgjXzuQmK"
   },
   "outputs": [],
   "source": [
    "# selecting only the numeric columns to build a base model\n",
    "X_train = X_train.select_dtypes(include=[np.number])\n",
    "X_test = X_test.select_dtypes(include=[np.number])\n"
   ]
  },
  {
   "cell_type": "markdown",
   "metadata": {
    "id": "ZRGtk2hPicIU"
   },
   "source": [
    "#### Linear Regression\n",
    "The type of Linear Regression we will be dealing with, is the Ordinary least squares Linear Regression, who main aim is to minimize the residual sum of squares between the observed targets in the dataset, and the targets predicted by the linear approximation."
   ]
  },
  {
   "cell_type": "code",
   "execution_count": null,
   "metadata": {
    "colab": {
     "base_uri": "https://localhost:8080/",
     "height": 320
    },
    "id": "dZLEM50gx8qE",
    "outputId": "23bd3103-1a59-4386-f35d-099844f25eb0"
   },
   "outputs": [],
   "source": [
    "from sklearn.linear_model import LinearRegression\n",
    "\n",
    "# create linear regression object\n",
    "clf=LinearRegression()\n",
    "\n",
    "# train the model using the training sets\n",
    "clf.fit(X_train, y_train)\n",
    "\n",
    "# predict the model on the test set\n",
    "prediction=clf.predict(X_test)\n",
    "\n",
    "from sklearn import metrics\n",
    "# Measuring Goodness of fit in Training data\n",
    "print('R2 Value:',metrics.r2_score(y_test, prediction))\n",
    "\n",
    "# plot for residual error\n",
    " \n",
    "# setting plot style\n",
    "plt.style.use('fivethirtyeight')\n",
    "\n",
    "# plotting residual errors in test data\n",
    "plt.scatter(clf.predict(X_test), clf.predict(X_test) - np.log1p(y_test),\n",
    "            color = \"blue\", s = 5, label = 'Test data')\n",
    " \n",
    "# plotting line for zero residual error\n",
    "plt.hlines(y = 0, xmin = -100, xmax = 500, linewidth = 2)\n",
    " \n",
    "# plotting legend\n",
    "plt.legend(loc = 'upper right')\n",
    " \n",
    "# plot title\n",
    "plt.title(\"Residual errors\")\n",
    " \n",
    "# method call for showing the plot\n",
    "plt.show()\n"
   ]
  },
  {
   "cell_type": "code",
   "execution_count": null,
   "metadata": {
    "colab": {
     "base_uri": "https://localhost:8080/",
     "height": 1000
    },
    "id": "69abjhyficIU",
    "outputId": "9439a392-a827-41ac-9a96-d943f55748d2"
   },
   "outputs": [],
   "source": [
    "df = pd.read_csv(\"hour.csv\", index_col=\"instant\", parse_dates=[\"dteday\"])\n",
    "\n",
    "df = df.rename(columns={\"hr\": \"hour\", \"cnt\":\"count\", \"dteday\":\"date\"})\n",
    "\n",
    "df = df.dropna()\n",
    "\n",
    "# Split and build the train and test set\n",
    "tscv = TimeBasedCV(train_period=120,\n",
    "                   test_period=30,\n",
    "                   freq='days')\n",
    "for train_index, test_index in tscv.split(df,\n",
    "                   validation_split_date=datetime.date(2011,5,1), date_column='date'):\n",
    "    print(train_index, test_index)\n",
    "\n",
    "# get number of splits\n",
    "tscv.get_n_splits()\n",
    "\n",
    "# Prepare the X and y sets\n",
    "X = df.drop([\"count\",\"casual\",\"registered\",\"weathersit\"], axis=1)\n",
    "y = df[\"count\"]\n",
    "\n",
    "\n",
    "r2scorear = []\n",
    "for train_index, test_index in tscv.split(X, validation_split_date=datetime.date(2011,5,1)):\n",
    "\n",
    "    data_train   = X.loc[train_index].drop('date', axis=1)\n",
    "    target_train = y.loc[train_index]\n",
    "\n",
    "    data_test    = X.loc[test_index].drop('date', axis=1)\n",
    "    target_test  = y.loc[test_index]\n",
    "\n",
    "    # Fit on the different train and test set\n",
    "    clf.fit(data_train,np.log1p(target_train))\n",
    "\n",
    "    preds = clf.predict(data_test)\n",
    "\n",
    "    # r@ Score for the current fold only    \n",
    "    r2score = metrics.r2_score(preds,np.log1p(target_test))\n",
    "    \n",
    "    #Append to the final array\n",
    "    r2scorear.append(r2score)\n",
    "\n",
    "# this is the average r2-score over all folds\n",
    "average_r2 = np.mean(r2scorear)\n",
    "\n",
    "# Plot the different r2 scores\n",
    "plt.plot(r2scorear)\n",
    "\n",
    "# Print the average r2 throughout\n",
    "print(\"R2-score:\",average_r2)"
   ]
  },
  {
   "cell_type": "markdown",
   "metadata": {
    "id": "5OiHl7K6icIU"
   },
   "source": [
    "#### R2 Metric Measure\n",
    "The coefficient of determination (R-squared) is a statistical metric that is used to measure how much of the variation in outcome can be explained by the variation in the independent variables. \n",
    "\n",
    "R2 can only range between 0 and 1, where 0 indicates that the outcome cannot be predicted by any of the independent variables and 1 indicates that the outcome can be predicted without error from the independent variables. Even we get R2 in negative, which tells the the chosen model fits worse than a horizontal line.\n",
    "\n",
    "Problem with R2 metric:\n",
    "R2 always increases as more predictors are added to the Linear model, even though the predictors may not be related to the outcome variable.\n",
    "\n",
    "In our case, this simple model is able to explain 13% variation of the count can be explained by the variation in the independent variable. "
   ]
  },
  {
   "cell_type": "code",
   "execution_count": null,
   "metadata": {
    "colab": {
     "base_uri": "https://localhost:8080/",
     "height": 353
    },
    "id": "BWLR3yLgX7Fj",
    "outputId": "7c884cd0-d49c-4a69-cf22-f991d57beb83"
   },
   "outputs": [],
   "source": [
    "#Checking the Residuals\n",
    "sns.distplot((np.log1p(y_test) -prediction), bins = 50)"
   ]
  },
  {
   "cell_type": "markdown",
   "metadata": {
    "id": "iQn0eyyZ08aQ"
   },
   "source": [
    "#####  Linear Regression with Ridge\n",
    "\n",
    "Our, first attempt, would be introducing the loss function in the linear least squares function and regularization is given by the L2 normalization. L2 regularization adds an L2 penalty, which equals the square of the magnitude of coefficients. All coefficients are shrunk by the same factor (so none are eliminated). It is given by the below formula:\n",
    "![image-2.png](attachment:image-2.png)"
   ]
  },
  {
   "cell_type": "code",
   "execution_count": null,
   "metadata": {
    "colab": {
     "base_uri": "https://localhost:8080/",
     "height": 1000
    },
    "id": "h3GHxftXy86p",
    "outputId": "6f7520d7-6d50-4507-bbbe-ec9c720af046"
   },
   "outputs": [],
   "source": [
    "from sklearn.linear_model import Ridge\n",
    "from sklearn.model_selection import GridSearchCV\n",
    "\n",
    "# Step 1 : Create Model\n",
    "ridge_model = Ridge(random_state=42)\n",
    "\n",
    "# Hyper-parameter List\n",
    "ridge_params = {'max_iter':[3000], 'alpha':[0.5, 0.1, 1, 2, 3, 4, 10, 30, 100, 200, 300, 400, 800, 900, 1000]}\n",
    "\n",
    "# Evaluate Function for Cross-Validation (R2 score)\n",
    "r2_scorer = metrics.make_scorer(metrics.r2_score, greater_is_better=True) \n",
    "\n",
    "tscv=TimeBasedCV(train_period=120,\n",
    "                   test_period=30,\n",
    "                   freq='days')\n",
    "\n",
    "for train_index, test_index in tscv.split(df,\n",
    "                   validation_split_date=datetime.date(2011,5,1), date_column='date'):\n",
    "    print(train_index, test_index)\n",
    "    \n",
    "# Step 2 : Create GridSearchCV Object (with Ridge)\n",
    "gridsearch_ridge_model = GridSearchCV(estimator=ridge_model,\n",
    "                                      param_grid=ridge_params,\n",
    "                                      scoring=r2_scorer,\n",
    "                                      cv=tscv.get_n_splits())\n",
    "\n",
    "# Step 3 : Perform Grid Search\n",
    "log_y = np.log1p(y_train) # Log Transformation of Target Value y\n",
    "gridsearch_ridge_model.fit(X_train, log_y) # Train (Grid Search)\n",
    "\n",
    "print('Best Parameter:', gridsearch_ridge_model.best_params_)\n",
    "\n",
    "# Step 4 : Predict with the best estimator from the parameter list\n",
    "prediction = gridsearch_ridge_model.best_estimator_.predict(X_test)\n",
    "\n",
    "# Step 5 : Evaluate\n",
    "print('R2 Value:',metrics.r2_score(np.log1p(y_test), prediction))\n",
    "\n",
    "# Step 6 : plot for residual error\n",
    "\n",
    "# plotting residual errors in test data\n",
    "plt.scatter(clf.predict(X_test), clf.predict(X_test) - np.log1p(y_test),\n",
    "            color = \"blue\", s = 5, label = 'Test data')\n",
    " \n",
    "# plotting line for zero residual error\n",
    "plt.hlines(y = 0, xmin = 0, xmax = 10, linewidth = 2)\n",
    " \n",
    "# plotting legend\n",
    "plt.legend(loc = 'upper right')\n",
    " \n",
    "# plot title\n",
    "plt.title(\"Residual errors\")\n",
    " \n",
    "# method call for showing the plot\n",
    "plt.show()\n"
   ]
  },
  {
   "cell_type": "markdown",
   "metadata": {
    "id": "iEu_u_4JicIW"
   },
   "source": [
    "We introduced GridSearchCV to get the value for the optimum value for penalty to be introduced within the model. With our current model, the penalty calculated was 30."
   ]
  },
  {
   "cell_type": "markdown",
   "metadata": {
    "id": "_pDBGc5eicIW"
   },
   "source": [
    "#####  Linear Regression with Lasso\n",
    "\n",
    "Similar to Ridge, Lasso introduced a loss function performing L1 regularization, which adds a penalty equal to the absolute value of the magnitude of coefficients. It is given by the formula:\n",
    "![image.png](attachment:image.png)\n",
    "Problem with this model being, this can result in sparse models with few coefficients; Some coefficients can become zero and eliminated from the model."
   ]
  },
  {
   "cell_type": "code",
   "execution_count": null,
   "metadata": {
    "colab": {
     "base_uri": "https://localhost:8080/",
     "height": 1000
    },
    "id": "mXL2VvdszIfP",
    "outputId": "2ea9c531-6673-4ac6-f6c5-99ee8fd0dc76"
   },
   "outputs": [],
   "source": [
    "from sklearn.linear_model import Lasso\n",
    "\n",
    "# Step 1: Create Model\n",
    "lasso_model = Lasso(random_state=42)\n",
    "\n",
    "# Hyper-parameter List\n",
    "lasso_alpha = 1/np.array([0.5, 0.1, 1, 2, 3, 4, 10, 30, 100, 200, 300, 400, 800, 900, 1000])\n",
    "lasso_params = {'max_iter':[3000], 'alpha':lasso_alpha}\n",
    "\n",
    "# Using time Based Splits\n",
    "tscv=TimeBasedCV(train_period=120,\n",
    "                   test_period=30,\n",
    "                   freq='days')\n",
    "\n",
    "for train_index, test_index in tscv.split(df,\n",
    "                   validation_split_date=datetime.date(2011,5,1), date_column='date'):\n",
    "    print(train_index, test_index)\n",
    "\n",
    "# Step 2: Create GridSearchCV Object (with Lasso)\n",
    "gridsearch_lasso_model = GridSearchCV(estimator=lasso_model,\n",
    "                                      param_grid=lasso_params,\n",
    "                                      scoring=r2_scorer,\n",
    "                                      cv=tscv.get_n_splits())\n",
    "\n",
    "\n",
    "# Step 3 : Perform Grid Search\n",
    "log_y = np.log1p(y_train)\n",
    "gridsearch_lasso_model.fit(X_train, log_y) # Train (Grid Search)\n",
    "\n",
    "print('Best Parameter:', gridsearch_lasso_model.best_params_)\n",
    "\n",
    "# Step 4 : Predict with the best estimator from the parameter list\n",
    "prediction = gridsearch_lasso_model.best_estimator_.predict(X_test)\n",
    "\n",
    "# Step 5 : Evaluate\n",
    "print('R2 Value:',metrics.r2_score(np.log1p(y_test), prediction))\n",
    "\n",
    "# Step 6: plot for residual error\n",
    " \n",
    "# setting plot style\n",
    "plt.style.use('fivethirtyeight')\n",
    "\n",
    "# plotting residual errors in test data\n",
    "plt.scatter(clf.predict(X_test), clf.predict(X_test) - np.log1p(y_test),\n",
    "            color = \"blue\", s = 5, label = 'Test data')\n",
    " \n",
    "# plotting line for zero residual error\n",
    "plt.hlines(y = 0, xmin = 0, xmax = 10, linewidth = 2)\n",
    " \n",
    "# plotting legend\n",
    "plt.legend(loc = 'upper right')\n",
    " \n",
    "# plot title\n",
    "plt.title(\"Residual errors\")\n",
    " \n",
    "# method call for showing the plot\n",
    "plt.show()"
   ]
  },
  {
   "cell_type": "markdown",
   "metadata": {
    "id": "ImctOc4DicIW"
   },
   "source": [
    "Similar to Ridge() we introduced GridSearchCV to get the value for the optimum value for penalty to be introduced within the model. With our current model, the penalty calculated was 0.003.\n",
    "\n",
    "But, still we can find a pattern within out residuals, so the model has possibilities of further development."
   ]
  },
  {
   "cell_type": "markdown",
   "metadata": {
    "id": "Ndc0NtOH1CE6"
   },
   "source": [
    "##### Random Forest Regressor\n",
    "\n",
    "A random forest regressor is a meta estimator that fits a number of classifying decision trees on various sub-samples of the dataset and uses averaging to improve the predictive accuracy and control over-fitting, decreasig variance and fixing the problem of overfitting."
   ]
  },
  {
   "cell_type": "code",
   "execution_count": null,
   "metadata": {
    "colab": {
     "base_uri": "https://localhost:8080/",
     "height": 1000
    },
    "id": "81VwUw9LzQe7",
    "outputId": "a3a9ac66-0fa5-4b71-ffc0-caadcdff2f80"
   },
   "outputs": [],
   "source": [
    "from sklearn.ensemble import RandomForestRegressor\n",
    "\n",
    "# Step 1: Create Model\n",
    "randomforest_model = RandomForestRegressor()\n",
    "\n",
    "# Hyper-parameter List\n",
    "rf_params = {'random_state':[42], 'n_estimators':[5, 10, 50, 100, 300]}\n",
    "\n",
    "# Using time Based Splits\n",
    "tscv=TimeBasedCV(train_period=120,\n",
    "                   test_period=30,\n",
    "                   freq='days')\n",
    "\n",
    "for train_index, test_index in tscv.split(df,\n",
    "                   validation_split_date=datetime.date(2011,5,1), date_column='date'):\n",
    "    print(train_index, test_index)\n",
    "\n",
    "\n",
    "# Step 2: Create GridSearchCV Object (with Random Forest Regression)\n",
    "gridsearch_random_forest_model = GridSearchCV(estimator=randomforest_model,\n",
    "                                              param_grid=rf_params,\n",
    "                                              scoring=r2_scorer,\n",
    "                                              cv=tscv.get_n_splits())\n",
    "\n",
    "# Step 3 : Perform Grid Search\n",
    "log_y = np.log1p(y_train)\n",
    "gridsearch_random_forest_model.fit(X_train, log_y)\n",
    "\n",
    "print('Best Parameter:', gridsearch_random_forest_model.best_params_)\n",
    "\n",
    "# Step 4 : Predict with the best estimator from the parameter list\n",
    "prediction = gridsearch_random_forest_model.best_estimator_.predict(X_test)\n",
    "\n",
    "# Step 5 : Evaluate\n",
    "print('R2 Value:',metrics.r2_score(np.log1p(y_test), prediction))\n",
    "\n",
    "# Step 6 : Plot the residuals\n",
    "\n",
    "# plotting residual errors in test data\n",
    "plt.scatter(clf.predict(X_test), clf.predict(X_test) - np.log1p(y_test),\n",
    "            color = \"blue\", s = 5, label = 'Test data')\n",
    " \n",
    "# plotting line for zero residual error\n",
    "plt.hlines(y = 0, xmin = 0, xmax = 10, linewidth = 2)\n",
    " \n",
    "# plotting legend\n",
    "plt.legend(loc = 'upper right')\n",
    " \n",
    "# plot title\n",
    "plt.title(\"Residual errors\")\n",
    " \n",
    "# method call for showing the plot\n",
    "plt.show()"
   ]
  },
  {
   "cell_type": "markdown",
   "metadata": {
    "id": "8qs6w5jVicIX"
   },
   "source": [
    "Lets look at the evolution as we increase the number of estimators, and how the Training and test r2 score changes"
   ]
  },
  {
   "cell_type": "code",
   "execution_count": null,
   "metadata": {
    "colab": {
     "base_uri": "https://localhost:8080/",
     "height": 483
    },
    "id": "MkVlsURAzyOE",
    "outputId": "a04715f6-5960-4eae-a50f-0911dc9c272c"
   },
   "outputs": [],
   "source": [
    "trees_range = [5, 10, 50, 100, 300]\n",
    "r2score = []\n",
    "\n",
    "# looping through values of max_depth\n",
    "for i, trees in enumerate(trees_range):\n",
    "    \n",
    "    # train\n",
    "    rf = RandomForestRegressor(n_estimators=trees, random_state=42)\n",
    "    rf.fit(X_train, np.log1p(y_train))\n",
    "    \n",
    "    # predict\n",
    "    y_hat_train = rf.predict(X_train)\n",
    "    y_hat_test = rf.predict(X_test)\n",
    "    \n",
    "    # evaluate\n",
    "    r2_train = metrics.r2_score(np.log1p(y_train), y_hat_train)\n",
    "    r2_test = metrics.r2_score(np.log1p(y_test), y_hat_test)\n",
    "    \n",
    "    # store results\n",
    "    r2score.append({\n",
    "        \"n_trees\": trees, \n",
    "        \"r2_train\": r2_train,\n",
    "        \"r2_test\": r2_test\n",
    "    })\n",
    "    \n",
    "    # print evolution of loop:\n",
    "    print(f\"N_trees: {trees}, r2_train: {r2_train:.3f}, r2_test={r2_test:.3f}\")\n",
    "    \n",
    "# saving results as dataframe\n",
    "results = pd.DataFrame(r2score)\n",
    "\n",
    "# plotting\n",
    "fig, ax = plt.subplots(figsize=(15, 6))\n",
    "\n",
    "ax.plot(results[\"n_trees\"], results[\"r2_train\"], label=\"training r2\", color=\"blue\")\n",
    "ax.plot(results[\"n_trees\"], results[\"r2_test\"], label=\"test r2\", color=\"orange\")\n",
    "ax.legend(fontsize=12)\n",
    "\n",
    "plt.show()"
   ]
  },
  {
   "cell_type": "markdown",
   "metadata": {
    "id": "6nlly_j1icIY"
   },
   "source": [
    "It is evident from this graph that with estimator size 100, somehow the r2 score saturates, though the GridSearchCv provides with best estimators as 300, it is logical to use 100 estimators as with furthur growth there is not much improvement in the performance."
   ]
  },
  {
   "cell_type": "markdown",
   "metadata": {
    "id": "HT0xlquE1GZz"
   },
   "source": [
    "##### Gradient Boosting Regressor\n",
    "\n",
    "Gradient boosting is a machine learning technique for regression and classification problems, which produces a prediction model in the form of an ensemble of weak prediction models, typically decision trees - which is the weak learner, building the model in a stage-wise fashion like other boosting methods do, to form one single strong learner in an iterative fashion."
   ]
  },
  {
   "cell_type": "code",
   "execution_count": null,
   "metadata": {
    "colab": {
     "base_uri": "https://localhost:8080/",
     "height": 337
    },
    "id": "8po8JrWf0FMu",
    "outputId": "0d4a9ad5-b300-4349-90e8-60c39f3d065e"
   },
   "outputs": [],
   "source": [
    "from sklearn.ensemble import GradientBoostingRegressor\n",
    "\n",
    "# Step 1: Create Model\n",
    "gradientboosting_model = GradientBoostingRegressor(random_state=42)\n",
    "\n",
    "# Hyper-parameter List\n",
    "rf_params = {'random_state':[42], 'n_estimators':[100, 300, 500]}\n",
    "# Step 2: Create GridSearchCV Object\n",
    "gridsearch_gradientboost_forest_model = GridSearchCV(estimator=gradientboosting_model,\n",
    "                                              param_grid=rf_params,\n",
    "                                              scoring=r2_scorer,\n",
    "                                              cv=5)\n",
    "\n",
    "# Step 3 : Perform Grid Search\n",
    "log_y = np.log1p(y_train)\n",
    "gridsearch_gradientboost_forest_model.fit(X_train, log_y)\n",
    "\n",
    "print('Best Parameter:', gridsearch_gradientboost_forest_model.best_params_)\n",
    "\n",
    "# Step 4 : Predict with the best parameter\n",
    "prediction = gridsearch_gradientboost_forest_model.best_estimator_.predict(X_test)\n",
    "\n",
    "# Step 5 : Evaluate\n",
    "print('R2 Value:',metrics.r2_score(np.log1p(y_test), prediction))\n",
    "\n",
    "# Step 6 : Plot the residuals\n",
    "\n",
    "# plotting residual errors in test data\n",
    "plt.scatter(clf.predict(X_test), clf.predict(X_test) - np.log1p(y_test),\n",
    "            color = \"blue\", s = 5, label = 'Test data')\n",
    " \n",
    "# plotting line for zero residual error\n",
    "plt.hlines(y = 0, xmin = 0, xmax = 10, linewidth = 2)\n",
    " \n",
    "# plotting legend\n",
    "plt.legend(loc = 'upper right')\n",
    " \n",
    "# plot title\n",
    "plt.title(\"Residual errors\")\n",
    " \n",
    "# method call for showing the plot\n",
    "plt.show()"
   ]
  },
  {
   "cell_type": "markdown",
   "metadata": {
    "id": "PT16UF2oicIY"
   },
   "source": [
    "Lets look at the evolution as we increase the number of estimators, and how the Training and test r2 score changes"
   ]
  },
  {
   "cell_type": "code",
   "execution_count": null,
   "metadata": {
    "colab": {
     "base_uri": "https://localhost:8080/",
     "height": 483
    },
    "id": "r5KZY3yR0mg6",
    "outputId": "392dae3c-98d8-4bd8-da3c-56dc04e6431b"
   },
   "outputs": [],
   "source": [
    "trees_range = [5, 10, 50, 100, 300]\n",
    "error_results = []\n",
    "\n",
    "# looping through values of max_depth\n",
    "for i, trees in enumerate(trees_range):\n",
    "    \n",
    "    # train\n",
    "    rf = GradientBoostingRegressor(n_estimators=trees, random_state=42)\n",
    "    rf.fit(X_train,np.log1p(y_train))\n",
    "    \n",
    "    # predict\n",
    "    y_hat_train = rf.predict(X_train)\n",
    "    y_hat_test = rf.predict(X_test)\n",
    "    \n",
    "    # evaluate\n",
    "    r2_train = metrics.r2_score(np.log1p(y_train), y_hat_train)\n",
    "    r2_test = metrics.r2_score(np.log1p(y_test), y_hat_test)\n",
    "    \n",
    "    # store results\n",
    "    error_results.append({\n",
    "        \"n_trees\": trees, \n",
    "        \"r2_train\": r2_train,\n",
    "        \"r2_test\": r2_test\n",
    "    })\n",
    "    \n",
    "    # print evolution of loop:\n",
    "    print(f\"N_trees: {trees}, r2_train: {r2_train:.3f}, r2_test={r2_test:.3f}\")\n",
    "    \n",
    "# saving results as dataframe\n",
    "results = pd.DataFrame(error_results)\n",
    "\n",
    "# plotting\n",
    "fig, ax = plt.subplots(figsize=(15, 6))\n",
    "\n",
    "ax.plot(results[\"n_trees\"], results[\"r2_train\"], label=\"training r2\", color=\"blue\")\n",
    "ax.plot(results[\"n_trees\"], results[\"r2_test\"], label=\"test r2\", color=\"orange\")\n",
    "ax.legend(fontsize=12)\n",
    "\n",
    "plt.show()"
   ]
  },
  {
   "cell_type": "markdown",
   "metadata": {
    "id": "7nMADtKvicIZ"
   },
   "source": [
    "#### Time Series Split - Gradient Boosting Regressor\n",
    "With such high r2 score in a basic model we need to check if, it is same throughout the dataset, when we change train and test in a 'rolling-window' approach."
   ]
  },
  {
   "cell_type": "code",
   "execution_count": null,
   "metadata": {
    "colab": {
     "base_uri": "https://localhost:8080/",
     "height": 1000
    },
    "id": "mDhcKTkhicIZ",
    "outputId": "5116a448-9fc4-48f5-c15b-5f98e15857a1"
   },
   "outputs": [],
   "source": [
    "df = pd.read_csv(\"hour.csv\", index_col=\"instant\", parse_dates=[\"dteday\"])\n",
    "\n",
    "df = df.rename(columns={\"hr\": \"hour\", \"cnt\":\"count\", \"dteday\":\"date\"})\n",
    "\n",
    "df = df.dropna()\n",
    "\n",
    "tscv = TimeBasedCV(train_period=60,\n",
    "                   test_period=7,\n",
    "                   freq='days')\n",
    "for train_index, test_index in tscv.split(df,\n",
    "                   validation_split_date=datetime.date(2011,3,1), date_column='date'):\n",
    "    print(train_index, test_index)\n",
    "\n",
    "# get number of splits\n",
    "tscv.get_n_splits()\n",
    "\n",
    "#### Example- compute average test sets score: ####\n",
    "X = df.drop([\"count\",\"casual\",\"registered\",\"weathersit\"], axis=1)\n",
    "y = df[\"count\"]\n",
    "\n",
    "r2scorear = []\n",
    "for train_index, test_index in tscv.split(X, validation_split_date=datetime.date(2011,3,1)):\n",
    "\n",
    "    data_train   = X.loc[train_index].drop('date', axis=1)\n",
    "    target_train = y.loc[train_index]\n",
    "\n",
    "    data_test    = X.loc[test_index].drop('date', axis=1)\n",
    "    target_test  = y.loc[test_index]\n",
    "\n",
    "\n",
    "    clf = GradientBoostingRegressor(n_estimators=trees, random_state=42)\n",
    "    clf.fit(data_train,np.log1p(target_train))\n",
    "\n",
    "    preds = clf.predict(data_test)\n",
    "\n",
    "    # accuracy for the current fold only    \n",
    "    r2score = metrics.r2_score(preds,np.log1p(target_test))\n",
    "\n",
    "    r2scorear.append(r2score)\n",
    "\n",
    "# this is the average accuracy over all folds\n",
    "average_r2 = np.mean(r2scorear)\n",
    "\n",
    "plt.plot(r2scorear)\n",
    "\n",
    "print(\"R2-score:\",average_r2)\n"
   ]
  },
  {
   "cell_type": "markdown",
   "metadata": {
    "id": "MAv57CxIicIZ"
   },
   "source": [
    "Similar to Random Forest regressor with estimator size 100, the r2 score saturates in Gradient Boosting Regressor, though the GridSearchCv provides with best estimators as 300, it is logical to use 100 estimators in this case too."
   ]
  },
  {
   "cell_type": "markdown",
   "metadata": {
    "id": "5Zurxp2NqolL"
   },
   "source": [
    "##### Support Vector Regression\n",
    "\n",
    "An SVM model is basically a representation of different classes in a hyperplane in multidimensional space. The hyperplane will be generated in an iterative manner by SVM so that the error can be minimized. The goal of SVM is to divide the datasets into classes to find a maximum marginal hyperplane. The main parameter here being:\n",
    "\n",
    "Kernel: A kernel helps us find a hyperplane in the higher dimensional space without increasing the computational cost. Usually, the computational cost will increase if the dimension of the data increases. This increase in dimension is required when we are unable to find a separating hyperplane in a given dimension and are required to move in a higher dimension.\n",
    "\n",
    "We will be playing with this to build linear and non linear regression models"
   ]
  },
  {
   "cell_type": "code",
   "execution_count": null,
   "metadata": {
    "colab": {
     "base_uri": "https://localhost:8080/"
    },
    "id": "Fb_FYkG10uk4",
    "outputId": "d31ead8e-bf72-4ead-d4b2-ca898ad7e30a"
   },
   "outputs": [],
   "source": [
    "from sklearn.svm import SVR\n",
    "\n",
    "# Step 1: Create Model\n",
    "svr_model = SVR()\n",
    "\n",
    "# Hyper-parameter List\n",
    "rf_params = {'kernel' : ('linear', 'poly', 'rbf', 'sigmoid'),}\n",
    "             #'C' : [1,5,10],\n",
    "             #'gamma' : ('auto','scale')}\n",
    "        \n",
    "# Step 2 : Create GridSearchCV Object\n",
    "gridsearch_svr_model = GridSearchCV(estimator=svr_model,\n",
    "                                              param_grid=rf_params,\n",
    "                                              scoring=r2_scorer,\n",
    "                                              cv=3, n_jobs = -1, verbose = 2)\n",
    "\n",
    "# Step 3 : Perform Grid Search\n",
    "log_y = np.log1p(y_train)\n",
    "gridsearch_svr_model.fit(X_train, log_y)\n",
    "\n",
    "print('Best Parameter:', gridsearch_svr_model.best_params_)\n",
    "\n",
    "# Step 4 : Predict with the best parameter\n",
    "prediction = gridsearch_svr_model.best_estimator_.predict(X_test)\n",
    "\n",
    "# Evaluate\n",
    "print('R2 Value:',metrics.r2_score(np.log1p(y_test), prediction))\n"
   ]
  },
  {
   "cell_type": "markdown",
   "metadata": {
    "id": "Qjm-djEzicIa"
   },
   "source": [
    "We can see out of all the linear and non linear models, radial basis function kernel, or RBF kernel, provides us with best R2 score, though the R2 score is much lesser than the tree based regressors. In future models thus we will only be concentrating on Linear and tree based regression models."
   ]
  },
  {
   "cell_type": "markdown",
   "metadata": {
    "id": "R0dfC9aVqucS"
   },
   "source": [
    "#### Basic Data Manipulation"
   ]
  },
  {
   "cell_type": "markdown",
   "metadata": {
    "id": "VutONVVqsmff"
   },
   "source": [
    "We will start with our feature engineering. First step, we will be defining a Column Transformer, imputing the NA values and the not required columns from the dataset. We are dropping atemp as the data distribution is similar and highly correlated to 'temp' attribute and thus, we are using 'temp' for the further models."
   ]
  },
  {
   "cell_type": "code",
   "execution_count": null,
   "metadata": {
    "id": "t8XB3fQFrp-v"
   },
   "outputs": [],
   "source": [
    "# Load data \n",
    "df = pd.read_csv(\"hour.csv\", index_col=\"instant\", parse_dates=[\"dteday\"])\n",
    "\n",
    "df = df.rename(columns={\"hr\": \"hour\", \"cnt\":\"count\", \"dteday\":\"date\"})"
   ]
  },
  {
   "cell_type": "code",
   "execution_count": null,
   "metadata": {
    "colab": {
     "base_uri": "https://localhost:8080/"
    },
    "id": "gzl3mvs4r63K",
    "outputId": "0487e9c6-47d1-4c13-94b7-2d2859b9d1bd"
   },
   "outputs": [],
   "source": [
    "date_split = pd.to_datetime(\"2012-10-01\")\n",
    "\n",
    "# training vs target\n",
    "x = df.drop([\"count\",\"registered\",\"casual\"], axis=1)\n",
    "y = df[[\"date\",\"count\"]]\n",
    "\n",
    "# splitting data\n",
    "X_train = x[x[\"date\"] < date_split]\n",
    "X_test = x[x[\"date\"] >= date_split]\n",
    "y_train = y[y[\"date\"] < date_split].drop(\"date\", axis=1).values.ravel()\n",
    "y_test = y[y[\"date\"] >= date_split].drop(\"date\", axis=1).values.ravel()\n",
    "print(\"X_train:\", X_train.shape)\n",
    "print(\"X_test:\", X_test.shape)\n",
    "print(\"y_train:\", y_train.shape)\n",
    "print(\"y_test:\", y_test.shape)"
   ]
  },
  {
   "cell_type": "markdown",
   "metadata": {
    "id": "UZPz3CgjicIe"
   },
   "source": [
    "Following steps are done in the  Column Trnsformer:\n",
    "\n",
    "1. NA values are imputed, with KNNImputer, with neighbourhood size as 200. We are using KNN imputer as the temperature, humidity and windspeed would most likely be similar to the neighbouring datasets.\n",
    "2. We are using Standard Scaler by removing the mean and scaling to unit variance of all the continuous variables within the same range."
   ]
  },
  {
   "cell_type": "code",
   "execution_count": null,
   "metadata": {
    "id": "jwZjTxouqy4k"
   },
   "outputs": [],
   "source": [
    "# Lets remove atemp as it is similar to temp and define a column transformer\n",
    "preprocessing = ColumnTransformer([\n",
    "    \n",
    "    (\"temp_encoder\", Pipeline([\n",
    "    (\"temp_imputer\",KNNImputer(n_neighbors=200)),\n",
    "    (\"temp_scaler\", StandardScaler())\n",
    "        \n",
    "  ]), [\"temp\"]), # Temperature Imputer and Standard Scaler\n",
    "\n",
    "    (\"hum_encoder\", Pipeline([\n",
    "    (\"hum_imputer\",KNNImputer(n_neighbors=200)),\n",
    "    (\"hum_scaler\", StandardScaler())\n",
    "        \n",
    "  ]), [\"hum\"]), # Humidity Imputer and Standard Scaler\n",
    "    \n",
    "    (\"ws_encoder\", Pipeline([\n",
    "    (\"ws_imputer\",KNNImputer(n_neighbors=200)),\n",
    "    (\"windspeed_scaler\", StandardScaler())\n",
    "        \n",
    "  ]), [\"windspeed\"]), # Windspeed Imputer and Standard Scaler\n",
    "\n",
    "  (\"drop_columns\", 'drop', [\"atemp\",'date',\"weathersit\"]),\n",
    "],remainder='passthrough')"
   ]
  },
  {
   "cell_type": "code",
   "execution_count": null,
   "metadata": {
    "colab": {
     "base_uri": "https://localhost:8080/",
     "height": 197
    },
    "id": "JPIBTIk8SChm",
    "outputId": "cbacb45f-bfe0-45ef-c379-60c306ff2c65"
   },
   "outputs": [],
   "source": [
    "# importing set config to display the pipelines visually\n",
    "import sklearn\n",
    "sklearn.set_config(display=\"diagram\")"
   ]
  },
  {
   "cell_type": "code",
   "execution_count": null,
   "metadata": {
    "colab": {
     "base_uri": "https://localhost:8080/"
    },
    "id": "56Ux4Ac3vJLR",
    "outputId": "3d49274e-5b77-4224-a0e7-84c5df818df0"
   },
   "outputs": [],
   "source": [
    "# Looking how the Preprocessing Column Transformer works on the Train Dataset\n",
    "preprocessing.fit_transform(X_train)"
   ]
  },
  {
   "cell_type": "markdown",
   "metadata": {
    "id": "QiLE4bHcicIe"
   },
   "source": [
    "#### Pipeline Creation\n",
    "\n",
    "We create a pipeline which will include the transforming, required modelling steps to build a model, for that we make use of the 'make_pipeline'."
   ]
  },
  {
   "cell_type": "code",
   "execution_count": null,
   "metadata": {
    "id": "fWt-OyNrsBaZ"
   },
   "outputs": [],
   "source": [
    "from sklearn.pipeline import make_pipeline\n",
    "clf = Pipeline([\n",
    "    (\"preprocessing\", preprocessing),\n",
    "    (\"Regression\", LinearRegression())\n",
    "])"
   ]
  },
  {
   "cell_type": "code",
   "execution_count": null,
   "metadata": {
    "colab": {
     "base_uri": "https://localhost:8080/",
     "height": 320
    },
    "id": "QYan6Z2ntqX5",
    "outputId": "b36cb414-3ba3-4533-adc3-51df2b178937"
   },
   "outputs": [],
   "source": [
    "# Using fit_predict function to train, predict and evaluate the model\n",
    "fit_predict(clf, X_train, y_train, X_test, y_test)"
   ]
  },
  {
   "cell_type": "markdown",
   "metadata": {
    "id": "qFFlcDCZicIf"
   },
   "source": [
    "With imputing the missing values, we achieved a higher R2 score on Linear Regression Algorithm. Let's look into the models."
   ]
  },
  {
   "cell_type": "markdown",
   "metadata": {
    "id": "2vIhMX_ficIf"
   },
   "source": [
    "#### set_params functionality\n",
    "\n",
    "We change the regression model in the pipeline using the set_params function, we will be using the parameters we obtained from the GridSearchCV. We are setting the random_state as fixed for all the modules so that we can evaluate using the same validation set."
   ]
  },
  {
   "cell_type": "code",
   "execution_count": null,
   "metadata": {
    "id": "H6mK51lMSChm"
   },
   "outputs": [],
   "source": [
    "rf = clf.set_params(Regression=RandomForestRegressor(n_estimators=100,random_state=42))"
   ]
  },
  {
   "cell_type": "code",
   "execution_count": null,
   "metadata": {
    "colab": {
     "base_uri": "https://localhost:8080/",
     "height": 320
    },
    "id": "w3hXqff9SChm",
    "outputId": "b9ea89b3-1d6e-48f0-cfcb-6f3c62a16bb9"
   },
   "outputs": [],
   "source": [
    "fit_predict(rf, X_train, y_train, X_test, y_test)"
   ]
  },
  {
   "cell_type": "code",
   "execution_count": null,
   "metadata": {
    "id": "eVtFMRq0SChm"
   },
   "outputs": [],
   "source": [
    "# We try with Gradient boosting Regressor, this time\n",
    "gbr = clf.set_params(Regression=GradientBoostingRegressor(n_estimators=100,random_state=42))"
   ]
  },
  {
   "cell_type": "code",
   "execution_count": null,
   "metadata": {
    "colab": {
     "base_uri": "https://localhost:8080/",
     "height": 320
    },
    "id": "YRyLC3IVSChm",
    "outputId": "c03d94f6-1906-4d71-b202-e392005f37be"
   },
   "outputs": [],
   "source": [
    "fit_predict(gbr, X_train, y_train, X_test, y_test)"
   ]
  },
  {
   "cell_type": "code",
   "execution_count": null,
   "metadata": {
    "colab": {
     "base_uri": "https://localhost:8080/",
     "height": 1000
    },
    "id": "_eOFeAVUicIg",
    "outputId": "dbe66a31-d822-49d1-cc48-c7ea10423940"
   },
   "outputs": [],
   "source": [
    "tscv = TimeBasedCV(train_period=60,\n",
    "                   test_period=7,\n",
    "                   freq='days')\n",
    "for train_index, test_index in tscv.split(df,\n",
    "                   validation_split_date=datetime.date(2011,3,1), date_column='date'):\n",
    "    print(train_index, test_index)\n",
    "\n",
    "# get number of splits\n",
    "tscv.get_n_splits()\n",
    "\n",
    "#### Example- compute average test sets score: ####\n",
    "X = df.drop([\"count\",\"casual\",\"registered\"], axis=1)\n",
    "y = df[\"count\"]\n",
    "\n",
    "r2scorear = []\n",
    "for train_index, test_index in tscv.split(X, validation_split_date=datetime.date(2011,3,1)):\n",
    "\n",
    "    data_train   = X.loc[train_index]\n",
    "    target_train = y.loc[train_index]\n",
    "\n",
    "    data_test    = X.loc[test_index]\n",
    "    target_test  = y.loc[test_index]\n",
    "\n",
    "    gbr.fit(data_train,np.log1p(target_train))\n",
    "\n",
    "    preds = gbr.predict(data_test)\n",
    "\n",
    "    # accuracy for the current fold only    \n",
    "    r2score = metrics.r2_score(preds,np.log1p(target_test))\n",
    "\n",
    "    r2scorear.append(r2score)\n",
    "\n",
    "# this is the average accuracy over all folds\n",
    "average_r2 = np.mean(r2scorear)\n",
    "\n",
    "plt.plot(r2scorear)\n",
    "\n",
    "print(\"R2-score:\",average_r2)"
   ]
  },
  {
   "cell_type": "markdown",
   "metadata": {
    "id": "RYYjcmOFSChn"
   },
   "source": [
    "#### Introducing Polynomial Features\n",
    "\n",
    "We are generating a new feature matrix consisting of all polynomial combinations of the features with degree less than or equal to the specified degree. "
   ]
  },
  {
   "cell_type": "code",
   "execution_count": null,
   "metadata": {
    "id": "Zn4Y2g0DSChn"
   },
   "outputs": [],
   "source": [
    "from sklearn.preprocessing import PolynomialFeatures\n",
    "poly = PolynomialFeatures(degree=2)"
   ]
  },
  {
   "cell_type": "code",
   "execution_count": null,
   "metadata": {
    "id": "n1j8NJMmSChn"
   },
   "outputs": [],
   "source": [
    "# We define a new pipeline to introduce the polynomial feature\n",
    "clf_poly = Pipeline([\n",
    "    (\"preprocessing\", preprocessing),\n",
    "    (\"feature_generation\", PolynomialFeatures(degree=2)),\n",
    "    (\"Regression\", LinearRegression()),\n",
    "])"
   ]
  },
  {
   "cell_type": "code",
   "execution_count": null,
   "metadata": {
    "colab": {
     "base_uri": "https://localhost:8080/"
    },
    "id": "unF66IkfSChn",
    "outputId": "195f5712-630c-4346-ef0e-320c4ee1a8e6"
   },
   "outputs": [],
   "source": [
    "clf_poly"
   ]
  },
  {
   "cell_type": "code",
   "execution_count": null,
   "metadata": {
    "colab": {
     "base_uri": "https://localhost:8080/",
     "height": 320
    },
    "id": "unwgi5rgSChn",
    "outputId": "eda1393f-d4af-431c-f4c1-8a984a348526"
   },
   "outputs": [],
   "source": [
    "# Train, Predict and Evaluate the model\n",
    "fit_predict(clf_poly, X_train, y_train, X_test, y_test)"
   ]
  },
  {
   "cell_type": "code",
   "execution_count": null,
   "metadata": {
    "id": "3O00v9kYSChn"
   },
   "outputs": [],
   "source": [
    "# Trying the new preprocessing steps with Random Forest Regressor \n",
    "gbr = clf.set_params(Regression=GradientBoostingRegressor(n_estimators=100,random_state=42))"
   ]
  },
  {
   "cell_type": "code",
   "execution_count": null,
   "metadata": {
    "colab": {
     "base_uri": "https://localhost:8080/",
     "height": 320
    },
    "id": "KF3Xwq8zSChn",
    "outputId": "ecdef129-24cb-4734-c855-f0133b5d0b98"
   },
   "outputs": [],
   "source": [
    "fit_predict(gbr, X_train, y_train, X_test, y_test)"
   ]
  },
  {
   "cell_type": "markdown",
   "metadata": {
    "id": "kmTMerwHicIi"
   },
   "source": [
    "With introduction of Polynomial Features, we got a significant improvement in the Linear Regression, but not such in Gradient Boosting Algorithm."
   ]
  },
  {
   "cell_type": "markdown",
   "metadata": {
    "id": "Qo75QG-6icIi"
   },
   "source": [
    "#### Column Transformer modification\n",
    "\n",
    "Once we are satisfied with only the numeric columns of the dataset, we are going to introduce the weather situation attribute to the column transformer."
   ]
  },
  {
   "cell_type": "code",
   "execution_count": null,
   "metadata": {
    "id": "jJIACohBicIj"
   },
   "outputs": [],
   "source": [
    "preprocessing = ColumnTransformer([\n",
    "    \n",
    "      (\"weathersit_encoder\", Pipeline([\n",
    "      (\"weathersit_encoder\", weathersit_encoder),\n",
    "      (\"weathersit_imputer\",KNNImputer(n_neighbors=200)),\n",
    "      (\"weathersit_rounder\",weathersit_rounder),\n",
    "      (\"weathersit_ohe\", OneHotEncoder(sparse=False))\n",
    "  ]),\"weathersit\"),\n",
    "    \n",
    "    \n",
    "    (\"temp_encoder\", Pipeline([\n",
    "    (\"temp_imputer\",KNNImputer(n_neighbors=200)),\n",
    "    (\"temp_scaler\", StandardScaler())\n",
    "        \n",
    "  ]), [\"temp\"]),\n",
    "\n",
    "  (\"hum_encoder\", Pipeline([\n",
    "    (\"hum_imputer\",KNNImputer(n_neighbors=200)),\n",
    "    (\"hum_scaler\", StandardScaler())\n",
    "        \n",
    "  ]), [\"hum\"]),\n",
    "    \n",
    "  (\"ws_encoder\", Pipeline([\n",
    "    (\"ws_imputer\",KNNImputer(n_neighbors=200)),\n",
    "    (\"windspeed_scaler\", StandardScaler())\n",
    "        \n",
    "  ]), [\"windspeed\"]),\n",
    "\n",
    "  (\"drop_columns\", 'drop', [\"atemp\",\"date\"]),\n",
    "],remainder='passthrough')"
   ]
  },
  {
   "cell_type": "code",
   "execution_count": null,
   "metadata": {
    "colab": {
     "base_uri": "https://localhost:8080/"
    },
    "id": "RUcYXRXqSCho",
    "outputId": "ed484608-0902-40f4-da65-7d9d0faeb957"
   },
   "outputs": [],
   "source": [
    "clf_poly.set_params(preprocessing=preprocessing,\n",
    "                    Regression=LinearRegression())"
   ]
  },
  {
   "cell_type": "code",
   "execution_count": null,
   "metadata": {
    "colab": {
     "base_uri": "https://localhost:8080/",
     "height": 320
    },
    "id": "_OpcG8jcSCho",
    "outputId": "5a32e72c-d883-41b1-f193-7e9e1ff38ac6"
   },
   "outputs": [],
   "source": [
    "fit_predict(clf_poly, X_train, y_train, X_test, y_test)"
   ]
  },
  {
   "cell_type": "code",
   "execution_count": null,
   "metadata": {
    "colab": {
     "base_uri": "https://localhost:8080/"
    },
    "id": "IoK0-w0OSCho",
    "outputId": "e5d019e8-8fee-405d-cd53-1a16464d48dc"
   },
   "outputs": [],
   "source": [
    "clf_poly.set_params(Regression=GradientBoostingRegressor(n_estimators=100))"
   ]
  },
  {
   "cell_type": "code",
   "execution_count": null,
   "metadata": {
    "colab": {
     "base_uri": "https://localhost:8080/",
     "height": 320
    },
    "id": "vXJ3I3EYSChp",
    "outputId": "5faf72e0-d593-4563-9063-421d126073ed"
   },
   "outputs": [],
   "source": [
    "fit_predict(clf_poly, X_train, y_train, X_test, y_test)"
   ]
  },
  {
   "cell_type": "markdown",
   "metadata": {
    "id": "LQBWlDJUSChp"
   },
   "source": [
    "With introduction of Weather, we achieved no such improvement within the model, it is time we introduce the feature we can extract from the date column, and create a new ColumnTransformer."
   ]
  },
  {
   "cell_type": "markdown",
   "metadata": {
    "id": "woIrrDnsicIk"
   },
   "source": [
    "#### Date Modifications\n",
    "\n",
    "We are defining a new columntransformer, where we are going to extract year, month, day, weekday, working day, holiday, season, all from a single column date. We would take help of the extracrtor functions defined above.\n",
    "\n",
    "We also bin the hour, into 5 categories, denoting morning, afternoon, evening, night and latenight. We will be using KbinDiscretizer for this."
   ]
  },
  {
   "cell_type": "code",
   "execution_count": null,
   "metadata": {
    "id": "8uRtWsXWicIk"
   },
   "outputs": [],
   "source": [
    "preprocessing = ColumnTransformer([\n",
    "    \n",
    "      (\"weathersit_encoder\", Pipeline([\n",
    "      (\"weathersit_encoder\", weathersit_encoder),\n",
    "      (\"weathersit_imputer\",KNNImputer(n_neighbors=200)),\n",
    "      (\"weathersit_rounder\",weathersit_rounder),\n",
    "      (\"weathersit_ohe\", OneHotEncoder(sparse=False))\n",
    "  ]),\"weathersit\"), # Weather Extraction \n",
    "    \n",
    "      (\"holiday_encoder\", Pipeline([\n",
    "      (\"holiday_extractor\", holiday_extractor),\n",
    " ]), \"date\"), # holiday date extraction\n",
    "    \n",
    "    (\"season_encoder\", Pipeline([\n",
    "    (\"season_extractor\", season_extractor),\n",
    "  ]), \"date\"), # Season Extraction\n",
    "\n",
    "    (\"weekday_encoder\", Pipeline([\n",
    "    (\"weekday_extractor\", weekday_extractor),\n",
    "  ]), \"date\"), # weekday Extraction\n",
    "    \n",
    "    (\"workingday_encoder\", Pipeline([\n",
    "    (\"workingday_extractor\", workingday_extractor),\n",
    "  ]), \"date\"), # Working Day Extraction\n",
    "\n",
    "    (\"year_encoder\", Pipeline([\n",
    "    (\"year_extractor\", year_extractor),\n",
    "  ]),\"date\"), # Year Extraction\n",
    "\n",
    "    (\"month_encoder\", Pipeline([\n",
    "    (\"month_extractor\", month_extractor),\n",
    "  ]),\"date\"),  # Month Extraction\n",
    "\n",
    "    (\"day_encoder\", Pipeline([\n",
    "    (\"day_extractor\", day_extractor),\n",
    "  ]),\"date\"),   # Day Extraction\n",
    "    \n",
    "    (\"temp_encoder\", Pipeline([\n",
    "    (\"temp_imputer\",KNNImputer(n_neighbors=200)),\n",
    "    (\"temp_scaler\", StandardScaler()) \n",
    "  ]), [\"temp\"]),  # Temperature encoder\n",
    "\n",
    "    (\"hum_encoder\", Pipeline([\n",
    "    (\"hum_imputer\",KNNImputer(n_neighbors=200)),\n",
    "    (\"hum_scaler\", StandardScaler())\n",
    "  ]), [\"hum\"]),   # Humidity Encoder\n",
    "    \n",
    "    (\"ws_encoder\", Pipeline([\n",
    "    (\"ws_imputer\",KNNImputer(n_neighbors=200)),\n",
    "    (\"windspeed_scaler\", StandardScaler())\n",
    "  ]), [\"windspeed\"]),   # Windspeed Encoder\n",
    "    \n",
    "    (\"hour_bin\",KBinsDiscretizer(n_bins=5,encode='onehot',strategy='uniform'), [\"hour\"]), # Hour encoder\n",
    "\n",
    "  (\"drop_columns\", 'drop', [\"atemp\"]),\n",
    "],remainder='passthrough')"
   ]
  },
  {
   "cell_type": "code",
   "execution_count": null,
   "metadata": {
    "colab": {
     "base_uri": "https://localhost:8080/"
    },
    "id": "_DMJUqaricIk",
    "outputId": "b905f479-e1da-4c49-fb1f-664b1fa45328"
   },
   "outputs": [],
   "source": [
    "clf_poly.set_params(preprocessing=preprocessing,\n",
    "                    Regression=LinearRegression())"
   ]
  },
  {
   "cell_type": "code",
   "execution_count": null,
   "metadata": {
    "colab": {
     "base_uri": "https://localhost:8080/",
     "height": 320
    },
    "id": "ZcA5fZ7KicIl",
    "outputId": "d4def6b4-7520-482f-acce-db3470a6fd61"
   },
   "outputs": [],
   "source": [
    "fit_predict(clf_poly, X_train, y_train, X_test, y_test)"
   ]
  },
  {
   "cell_type": "code",
   "execution_count": null,
   "metadata": {
    "colab": {
     "base_uri": "https://localhost:8080/"
    },
    "id": "2no5FJThicIl",
    "outputId": "87527559-bcdf-4739-b722-7864d6a7a51c"
   },
   "outputs": [],
   "source": [
    "clf_poly.set_params(Regression=GradientBoostingRegressor(n_estimators=100))"
   ]
  },
  {
   "cell_type": "code",
   "execution_count": null,
   "metadata": {
    "colab": {
     "base_uri": "https://localhost:8080/",
     "height": 320
    },
    "id": "MewUBphAicIl",
    "outputId": "9ae48c20-f315-46de-d888-5fdc852bb3a7"
   },
   "outputs": [],
   "source": [
    "fit_predict(clf_poly, X_train, y_train, X_test, y_test)"
   ]
  },
  {
   "cell_type": "markdown",
   "metadata": {
    "id": "bZiFFMsticIl"
   },
   "source": [
    "#### Insights:\n",
    "We achieved a model, which fits different family of regressors having a similar R2 score, made significant gains in Linear Regression, but lost the variability of target count when Gradient booster is used."
   ]
  },
  {
   "cell_type": "code",
   "execution_count": null,
   "metadata": {
    "colab": {
     "base_uri": "https://localhost:8080/",
     "height": 356
    },
    "id": "CJJIkmDGicIl",
    "outputId": "da617b67-369b-469e-d81f-eb4ce7fc12d8"
   },
   "outputs": [],
   "source": [
    "sns.distplot((np.log1p(y_test)-clf_poly.predict(X_test)), bins = 50)"
   ]
  },
  {
   "cell_type": "markdown",
   "metadata": {
    "id": "ows0WPt2icIl"
   },
   "source": [
    "#### Final Tweaks\n",
    "\n",
    "It is evident we are putting garbage information within the moel, which decreases the model performance, Let us tune the model which makes sense.\n",
    "1. Weekday and working day are highly correlated, thus we are using weekday for higher variability. \n",
    "2. Day in the model does not make sense as no one normally rents or did not rents a bicycle on the date\n",
    "3. We are dropping the hour bin (Trial and Error) to get a high score :D\n",
    "\n",
    "We are creating the column transformer from scratch as we might swnd these transformations to deployment. :DD"
   ]
  },
  {
   "cell_type": "code",
   "execution_count": null,
   "metadata": {
    "id": "lL-uNFZYicIm"
   },
   "outputs": [],
   "source": [
    "preprocessing = ColumnTransformer([\n",
    "    \n",
    "      (\"weathersit_encoder\", Pipeline([\n",
    "      (\"weathersit_encoder\", weathersit_encoder),\n",
    "      (\"weathersit_imputer\",KNNImputer(n_neighbors=200)),\n",
    "      (\"weathersit_rounder\",weathersit_rounder),\n",
    "      (\"weathersit_ohe\", OneHotEncoder(sparse=False))\n",
    "  ]),\"weathersit\"), # Weather Extraction \n",
    "    \n",
    "      (\"holiday_encoder\", Pipeline([\n",
    "      (\"holiday_extractor\", holiday_extractor),\n",
    " ]), \"date\"), # holiday date extraction\n",
    "    \n",
    "    (\"season_encoder\", Pipeline([\n",
    "    (\"season_extractor\", season_extractor),\n",
    "  ]), \"date\"), # Season Extraction\n",
    "\n",
    "    (\"weekday_encoder\", Pipeline([\n",
    "    (\"weekday_extractor\", weekday_extractor),\n",
    "  ]), \"date\"), # weekday Extraction\n",
    "\n",
    "    (\"year_encoder\", Pipeline([\n",
    "    (\"year_extractor\", year_extractor),\n",
    "  ]),\"date\"), # Year Extraction\n",
    "\n",
    "    (\"month_encoder\", Pipeline([\n",
    "    (\"month_extractor\", month_extractor),\n",
    "  ]),\"date\"),  # Month Extraction\n",
    "\n",
    "    \n",
    "    (\"temp_encoder\", Pipeline([\n",
    "    (\"temp_imputer\",KNNImputer(n_neighbors=200)),\n",
    "    (\"temp_scaler\", StandardScaler()) \n",
    "  ]), [\"temp\"]),  # Temperature encoder\n",
    "\n",
    "    (\"hum_encoder\", Pipeline([\n",
    "    (\"hum_imputer\",KNNImputer(n_neighbors=200)),\n",
    "    (\"hum_scaler\", StandardScaler())\n",
    "  ]), [\"hum\"]),   # Humidity Encoder\n",
    "    \n",
    "    (\"ws_encoder\", Pipeline([\n",
    "    (\"ws_imputer\",KNNImputer(n_neighbors=200)),\n",
    "    (\"windspeed_scaler\", StandardScaler())\n",
    "  ]), [\"windspeed\"]),   # Windspeed Encoder\n",
    "    \n",
    "\n",
    "  (\"drop_columns\", 'drop', [\"atemp\"]),\n",
    "],remainder='passthrough')"
   ]
  },
  {
   "cell_type": "code",
   "execution_count": null,
   "metadata": {
    "colab": {
     "base_uri": "https://localhost:8080/"
    },
    "id": "OpUi0J9ricIm",
    "outputId": "40efa968-cdb7-451f-ebff-2e105150f7db"
   },
   "outputs": [],
   "source": [
    "clf_poly.set_params(preprocessing=preprocessing,\n",
    "                    Regression=LinearRegression()) # Changing to Basic Linear Regression"
   ]
  },
  {
   "cell_type": "code",
   "execution_count": null,
   "metadata": {
    "colab": {
     "base_uri": "https://localhost:8080/",
     "height": 320
    },
    "id": "qHy2eS4UicIm",
    "outputId": "051b1862-199c-4c4f-a416-15ce6f0f6b9b"
   },
   "outputs": [],
   "source": [
    "fit_predict(clf_poly, X_train, y_train, X_test, y_test)"
   ]
  },
  {
   "cell_type": "code",
   "execution_count": null,
   "metadata": {
    "colab": {
     "base_uri": "https://localhost:8080/"
    },
    "id": "VXDwengUicIm",
    "outputId": "3f608495-c76b-4994-f4ad-517cdb304063"
   },
   "outputs": [],
   "source": [
    "clf_poly.set_params(Regression=GradientBoostingRegressor(n_estimators=100))"
   ]
  },
  {
   "cell_type": "code",
   "execution_count": null,
   "metadata": {
    "colab": {
     "base_uri": "https://localhost:8080/",
     "height": 320
    },
    "id": "JxhXY4m3icIm",
    "outputId": "8bfdc546-8546-4eaf-85cd-bf2ff68399ec"
   },
   "outputs": [],
   "source": [
    "fit_predict(clf_poly, X_train, y_train, X_test, y_test)"
   ]
  },
  {
   "cell_type": "code",
   "execution_count": null,
   "metadata": {
    "colab": {
     "base_uri": "https://localhost:8080/",
     "height": 353
    },
    "id": "eTnR7DnMicIn",
    "outputId": "03cbc659-4702-4a8a-a208-74c8293732d2"
   },
   "outputs": [],
   "source": [
    "sns.distplot((np.log1p(y_test)-clf_poly.predict(X_test)), bins = 50)"
   ]
  },
  {
   "cell_type": "markdown",
   "metadata": {
    "id": "jDNjFPn5SChp"
   },
   "source": [
    "# Conclusion\n",
    "\n",
    "We plan to stop here, as we can see the residuals do not exhibit any pattern as such, denoting we have reaching a model which cannot be significantly improved, also the residuals are somehow normally distributed, no homoskedasticity is detected with this model.\n",
    "\n",
    "We have two final models,\n",
    "1. A model which fits well providing the same R2 score with all the regressor algorithms, This when applied to models like Linear Regression, Gradient Boosting Regressors, were able to describe 73% of the \"Count  variable's variation with respect to the variation of the independent Variable.\n",
    "2. Whereas, the other one, which fits differently to different regressors, Gradient Boosting Regressor was able to explain 89.3% of the variation, but Linear Regression was only able to explain 60.4% of the target attribute's variation.\n",
    "\n",
    "We can argue, with such a high score, maybe the second preprocessing steps are overfitting the Gradient Boosting Algorithm and thus, in real world it makes more sense to use the first one."
   ]
  },
  {
   "cell_type": "code",
   "execution_count": null,
   "metadata": {
    "id": "SQpJpFkIl7v5"
   },
   "outputs": [],
   "source": []
  }
 ],
 "metadata": {
  "colab": {
   "collapsed_sections": [],
   "name": "spp_python_model_v3_FullRun.ipynb",
   "provenance": [],
   "toc_visible": true
  },
  "kernelspec": {
   "display_name": "Python 3",
   "language": "python",
   "name": "python3"
  },
  "language_info": {
   "codemirror_mode": {
    "name": "ipython",
    "version": 3
   },
   "file_extension": ".py",
   "mimetype": "text/x-python",
   "name": "python",
   "nbconvert_exporter": "python",
   "pygments_lexer": "ipython3",
   "version": "3.7.6"
  },
  "widgets": {
   "application/vnd.jupyter.widget-state+json": {
    "1b58cfd054894a8bb2259a649f4aed93": {
     "model_module": "@jupyter-widgets/controls",
     "model_name": "VBoxModel",
     "state": {
      "_dom_classes": [
       "widget-interact"
      ],
      "_model_module": "@jupyter-widgets/controls",
      "_model_module_version": "1.5.0",
      "_model_name": "VBoxModel",
      "_view_count": null,
      "_view_module": "@jupyter-widgets/controls",
      "_view_module_version": "1.5.0",
      "_view_name": "VBoxView",
      "box_style": "",
      "children": [
       "IPY_MODEL_90849ae187b24de9afd41de1201be47f",
       "IPY_MODEL_e675ea2727504f78aff789d53242562c"
      ],
      "layout": "IPY_MODEL_e9b026550d3f497b92ff7abbac4fae1d"
     }
    },
    "28fc421b66a74567b6d9de88bd0c5574": {
     "model_module": "@jupyter-widgets/base",
     "model_name": "LayoutModel",
     "state": {
      "_model_module": "@jupyter-widgets/base",
      "_model_module_version": "1.2.0",
      "_model_name": "LayoutModel",
      "_view_count": null,
      "_view_module": "@jupyter-widgets/base",
      "_view_module_version": "1.2.0",
      "_view_name": "LayoutView",
      "align_content": null,
      "align_items": null,
      "align_self": null,
      "border": null,
      "bottom": null,
      "display": null,
      "flex": null,
      "flex_flow": null,
      "grid_area": null,
      "grid_auto_columns": null,
      "grid_auto_flow": null,
      "grid_auto_rows": null,
      "grid_column": null,
      "grid_gap": null,
      "grid_row": null,
      "grid_template_areas": null,
      "grid_template_columns": null,
      "grid_template_rows": null,
      "height": null,
      "justify_content": null,
      "justify_items": null,
      "left": null,
      "margin": null,
      "max_height": null,
      "max_width": null,
      "min_height": null,
      "min_width": null,
      "object_fit": null,
      "object_position": null,
      "order": null,
      "overflow": null,
      "overflow_x": null,
      "overflow_y": null,
      "padding": null,
      "right": null,
      "top": null,
      "visibility": null,
      "width": null
     }
    },
    "2fbfb2b88df144e58270a8fc71722e38": {
     "model_module": "@jupyter-widgets/controls",
     "model_name": "DropdownModel",
     "state": {
      "_dom_classes": [],
      "_model_module": "@jupyter-widgets/controls",
      "_model_module_version": "1.5.0",
      "_model_name": "DropdownModel",
      "_options_labels": [
       "season",
       "hour",
       "year"
      ],
      "_view_count": null,
      "_view_module": "@jupyter-widgets/controls",
      "_view_module_version": "1.5.0",
      "_view_name": "DropdownView",
      "description": "column_name",
      "description_tooltip": null,
      "disabled": false,
      "index": 0,
      "layout": "IPY_MODEL_c52f0c84c0f24e988614e85024b198c7",
      "style": "IPY_MODEL_d8b737457b5e4ec3ab66a7f34f533cac"
     }
    },
    "5d11da2dd6da46fdabedf24ab79b36a5": {
     "model_module": "@jupyter-widgets/base",
     "model_name": "LayoutModel",
     "state": {
      "_model_module": "@jupyter-widgets/base",
      "_model_module_version": "1.2.0",
      "_model_name": "LayoutModel",
      "_view_count": null,
      "_view_module": "@jupyter-widgets/base",
      "_view_module_version": "1.2.0",
      "_view_name": "LayoutView",
      "align_content": null,
      "align_items": null,
      "align_self": null,
      "border": null,
      "bottom": null,
      "display": null,
      "flex": null,
      "flex_flow": null,
      "grid_area": null,
      "grid_auto_columns": null,
      "grid_auto_flow": null,
      "grid_auto_rows": null,
      "grid_column": null,
      "grid_gap": null,
      "grid_row": null,
      "grid_template_areas": null,
      "grid_template_columns": null,
      "grid_template_rows": null,
      "height": null,
      "justify_content": null,
      "justify_items": null,
      "left": null,
      "margin": null,
      "max_height": null,
      "max_width": null,
      "min_height": null,
      "min_width": null,
      "object_fit": null,
      "object_position": null,
      "order": null,
      "overflow": null,
      "overflow_x": null,
      "overflow_y": null,
      "padding": null,
      "right": null,
      "top": null,
      "visibility": null,
      "width": null
     }
    },
    "7417be5f0ce448d88f6b401999287c37": {
     "model_module": "@jupyter-widgets/output",
     "model_name": "OutputModel",
     "state": {
      "_dom_classes": [],
      "_model_module": "@jupyter-widgets/output",
      "_model_module_version": "1.0.0",
      "_model_name": "OutputModel",
      "_view_count": null,
      "_view_module": "@jupyter-widgets/output",
      "_view_module_version": "1.0.0",
      "_view_name": "OutputView",
      "layout": "IPY_MODEL_28fc421b66a74567b6d9de88bd0c5574",
      "msg_id": "",
      "outputs": [
       {
        "image/png": "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\n",
        "metadata": {
         "needs_background": "light",
         "tags": []
        },
        "output_type": "display_data",
        "text/plain": "<Figure size 720x720 with 1 Axes>"
       }
      ]
     }
    },
    "90849ae187b24de9afd41de1201be47f": {
     "model_module": "@jupyter-widgets/controls",
     "model_name": "DropdownModel",
     "state": {
      "_dom_classes": [],
      "_model_module": "@jupyter-widgets/controls",
      "_model_module_version": "1.5.0",
      "_model_name": "DropdownModel",
      "_options_labels": [
       "season",
       "weathersit"
      ],
      "_view_count": null,
      "_view_module": "@jupyter-widgets/controls",
      "_view_module_version": "1.5.0",
      "_view_name": "DropdownView",
      "description": "column_name",
      "description_tooltip": null,
      "disabled": false,
      "index": 0,
      "layout": "IPY_MODEL_5d11da2dd6da46fdabedf24ab79b36a5",
      "style": "IPY_MODEL_d327023d27c94d8788511b1da3931b54"
     }
    },
    "a7fd68f1c24047ef93233b7b2207f490": {
     "model_module": "@jupyter-widgets/base",
     "model_name": "LayoutModel",
     "state": {
      "_model_module": "@jupyter-widgets/base",
      "_model_module_version": "1.2.0",
      "_model_name": "LayoutModel",
      "_view_count": null,
      "_view_module": "@jupyter-widgets/base",
      "_view_module_version": "1.2.0",
      "_view_name": "LayoutView",
      "align_content": null,
      "align_items": null,
      "align_self": null,
      "border": null,
      "bottom": null,
      "display": null,
      "flex": null,
      "flex_flow": null,
      "grid_area": null,
      "grid_auto_columns": null,
      "grid_auto_flow": null,
      "grid_auto_rows": null,
      "grid_column": null,
      "grid_gap": null,
      "grid_row": null,
      "grid_template_areas": null,
      "grid_template_columns": null,
      "grid_template_rows": null,
      "height": null,
      "justify_content": null,
      "justify_items": null,
      "left": null,
      "margin": null,
      "max_height": null,
      "max_width": null,
      "min_height": null,
      "min_width": null,
      "object_fit": null,
      "object_position": null,
      "order": null,
      "overflow": null,
      "overflow_x": null,
      "overflow_y": null,
      "padding": null,
      "right": null,
      "top": null,
      "visibility": null,
      "width": null
     }
    },
    "c52f0c84c0f24e988614e85024b198c7": {
     "model_module": "@jupyter-widgets/base",
     "model_name": "LayoutModel",
     "state": {
      "_model_module": "@jupyter-widgets/base",
      "_model_module_version": "1.2.0",
      "_model_name": "LayoutModel",
      "_view_count": null,
      "_view_module": "@jupyter-widgets/base",
      "_view_module_version": "1.2.0",
      "_view_name": "LayoutView",
      "align_content": null,
      "align_items": null,
      "align_self": null,
      "border": null,
      "bottom": null,
      "display": null,
      "flex": null,
      "flex_flow": null,
      "grid_area": null,
      "grid_auto_columns": null,
      "grid_auto_flow": null,
      "grid_auto_rows": null,
      "grid_column": null,
      "grid_gap": null,
      "grid_row": null,
      "grid_template_areas": null,
      "grid_template_columns": null,
      "grid_template_rows": null,
      "height": null,
      "justify_content": null,
      "justify_items": null,
      "left": null,
      "margin": null,
      "max_height": null,
      "max_width": null,
      "min_height": null,
      "min_width": null,
      "object_fit": null,
      "object_position": null,
      "order": null,
      "overflow": null,
      "overflow_x": null,
      "overflow_y": null,
      "padding": null,
      "right": null,
      "top": null,
      "visibility": null,
      "width": null
     }
    },
    "d157556630ec455db1c1a4408c8ec4de": {
     "model_module": "@jupyter-widgets/controls",
     "model_name": "VBoxModel",
     "state": {
      "_dom_classes": [
       "widget-interact"
      ],
      "_model_module": "@jupyter-widgets/controls",
      "_model_module_version": "1.5.0",
      "_model_name": "VBoxModel",
      "_view_count": null,
      "_view_module": "@jupyter-widgets/controls",
      "_view_module_version": "1.5.0",
      "_view_name": "VBoxView",
      "box_style": "",
      "children": [
       "IPY_MODEL_2fbfb2b88df144e58270a8fc71722e38",
       "IPY_MODEL_7417be5f0ce448d88f6b401999287c37"
      ],
      "layout": "IPY_MODEL_a7fd68f1c24047ef93233b7b2207f490"
     }
    },
    "d327023d27c94d8788511b1da3931b54": {
     "model_module": "@jupyter-widgets/controls",
     "model_name": "DescriptionStyleModel",
     "state": {
      "_model_module": "@jupyter-widgets/controls",
      "_model_module_version": "1.5.0",
      "_model_name": "DescriptionStyleModel",
      "_view_count": null,
      "_view_module": "@jupyter-widgets/base",
      "_view_module_version": "1.2.0",
      "_view_name": "StyleView",
      "description_width": ""
     }
    },
    "d8b737457b5e4ec3ab66a7f34f533cac": {
     "model_module": "@jupyter-widgets/controls",
     "model_name": "DescriptionStyleModel",
     "state": {
      "_model_module": "@jupyter-widgets/controls",
      "_model_module_version": "1.5.0",
      "_model_name": "DescriptionStyleModel",
      "_view_count": null,
      "_view_module": "@jupyter-widgets/base",
      "_view_module_version": "1.2.0",
      "_view_name": "StyleView",
      "description_width": ""
     }
    },
    "e675ea2727504f78aff789d53242562c": {
     "model_module": "@jupyter-widgets/output",
     "model_name": "OutputModel",
     "state": {
      "_dom_classes": [],
      "_model_module": "@jupyter-widgets/output",
      "_model_module_version": "1.0.0",
      "_model_name": "OutputModel",
      "_view_count": null,
      "_view_module": "@jupyter-widgets/output",
      "_view_module_version": "1.0.0",
      "_view_name": "OutputView",
      "layout": "IPY_MODEL_f5ec19e357ed4cc886424ad54d0eb683",
      "msg_id": "",
      "outputs": [
       {
        "image/png": "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\n",
        "metadata": {
         "needs_background": "light",
         "tags": []
        },
        "output_type": "display_data",
        "text/plain": "<Figure size 432x288 with 1 Axes>"
       }
      ]
     }
    },
    "e9b026550d3f497b92ff7abbac4fae1d": {
     "model_module": "@jupyter-widgets/base",
     "model_name": "LayoutModel",
     "state": {
      "_model_module": "@jupyter-widgets/base",
      "_model_module_version": "1.2.0",
      "_model_name": "LayoutModel",
      "_view_count": null,
      "_view_module": "@jupyter-widgets/base",
      "_view_module_version": "1.2.0",
      "_view_name": "LayoutView",
      "align_content": null,
      "align_items": null,
      "align_self": null,
      "border": null,
      "bottom": null,
      "display": null,
      "flex": null,
      "flex_flow": null,
      "grid_area": null,
      "grid_auto_columns": null,
      "grid_auto_flow": null,
      "grid_auto_rows": null,
      "grid_column": null,
      "grid_gap": null,
      "grid_row": null,
      "grid_template_areas": null,
      "grid_template_columns": null,
      "grid_template_rows": null,
      "height": null,
      "justify_content": null,
      "justify_items": null,
      "left": null,
      "margin": null,
      "max_height": null,
      "max_width": null,
      "min_height": null,
      "min_width": null,
      "object_fit": null,
      "object_position": null,
      "order": null,
      "overflow": null,
      "overflow_x": null,
      "overflow_y": null,
      "padding": null,
      "right": null,
      "top": null,
      "visibility": null,
      "width": null
     }
    },
    "f5ec19e357ed4cc886424ad54d0eb683": {
     "model_module": "@jupyter-widgets/base",
     "model_name": "LayoutModel",
     "state": {
      "_model_module": "@jupyter-widgets/base",
      "_model_module_version": "1.2.0",
      "_model_name": "LayoutModel",
      "_view_count": null,
      "_view_module": "@jupyter-widgets/base",
      "_view_module_version": "1.2.0",
      "_view_name": "LayoutView",
      "align_content": null,
      "align_items": null,
      "align_self": null,
      "border": null,
      "bottom": null,
      "display": null,
      "flex": null,
      "flex_flow": null,
      "grid_area": null,
      "grid_auto_columns": null,
      "grid_auto_flow": null,
      "grid_auto_rows": null,
      "grid_column": null,
      "grid_gap": null,
      "grid_row": null,
      "grid_template_areas": null,
      "grid_template_columns": null,
      "grid_template_rows": null,
      "height": null,
      "justify_content": null,
      "justify_items": null,
      "left": null,
      "margin": null,
      "max_height": null,
      "max_width": null,
      "min_height": null,
      "min_width": null,
      "object_fit": null,
      "object_position": null,
      "order": null,
      "overflow": null,
      "overflow_x": null,
      "overflow_y": null,
      "padding": null,
      "right": null,
      "top": null,
      "visibility": null,
      "width": null
     }
    }
   }
  }
 },
 "nbformat": 4,
 "nbformat_minor": 4
}
